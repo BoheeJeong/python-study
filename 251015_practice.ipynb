{
 "cells": [
  {
   "cell_type": "markdown",
   "id": "4e84ad80",
   "metadata": {},
   "source": [
    "#Lab 01 - 파이썬 시작하기 , 변수와 연산자\n",
    "## #03. 첫 번쨰 프로그램\n",
    "### 소스코드 작성하기"
   ]
  },
  {
   "cell_type": "code",
   "execution_count": 1,
   "id": "eb9ccd1d",
   "metadata": {},
   "outputs": [
    {
     "name": "stdout",
     "output_type": "stream",
     "text": [
      "Hello World\n"
     ]
    }
   ],
   "source": [
    "print(\"Hello World\")\n"
   ]
  },
  {
   "cell_type": "code",
   "execution_count": 4,
   "id": "949e86ef",
   "metadata": {},
   "outputs": [
    {
     "name": "stdout",
     "output_type": "stream",
     "text": [
      "300\n"
     ]
    }
   ],
   "source": [
    "a=100\n",
    "b=200\n",
    "print(a+b)"
   ]
  },
  {
   "cell_type": "code",
   "execution_count": 5,
   "id": "8d08bae3",
   "metadata": {},
   "outputs": [],
   "source": [
    "#Lab 01 - 파이썬 시작하기 , 변수와 연산자\n",
    "## #04. 변수의 이해\n",
    "### 다양한 변수 만들기"
   ]
  },
  {
   "cell_type": "code",
   "execution_count": 11,
   "id": "1155840e",
   "metadata": {},
   "outputs": [
    {
     "name": "stdout",
     "output_type": "stream",
     "text": [
      "123\n",
      "-456\n",
      "-333\n"
     ]
    }
   ],
   "source": [
    "#변수를 만들고, 최초 대입 즉 초기화를 해줌\n",
    "a=123\n",
    "b=-456\n",
    "print(a)\n",
    "print(b)\n",
    "print(a+b)"
   ]
  },
  {
   "cell_type": "code",
   "execution_count": 13,
   "id": "cb97f128",
   "metadata": {},
   "outputs": [
    {
     "name": "stdout",
     "output_type": "stream",
     "text": [
      "10000\n"
     ]
    }
   ],
   "source": [
    "#앞서 a 를 123 이라고 저장했지만, 다른 값으로 변경해서 출력 가능\n",
    "a=10000\n",
    "print(a)"
   ]
  },
  {
   "cell_type": "code",
   "execution_count": null,
   "id": "0d67d564",
   "metadata": {},
   "outputs": [
    {
     "name": "stdout",
     "output_type": "stream",
     "text": [
      "1.2\n",
      "-3.45\n"
     ]
    }
   ],
   "source": [
    "#실수형 변수 만들기\n",
    "c=1.2\n",
    "d=-3.45\n",
    "print(c)\n",
    "print(d)\n",
    "\n",
    "\n"
   ]
  },
  {
   "cell_type": "code",
   "execution_count": null,
   "id": "2b6ea4fe",
   "metadata": {},
   "outputs": [
    {
     "name": "stdout",
     "output_type": "stream",
     "text": [
      "True\n",
      "False\n"
     ]
    }
   ],
   "source": [
    "#논리형변수 True False 앞에 대문자 안써주면 오류, 논리형 변수\n",
    "a=True\n",
    "print(a)\n",
    "b=False\n",
    "print(b)\n",
    "\n",
    "\n",
    "\n"
   ]
  },
  {
   "cell_type": "code",
   "execution_count": null,
   "id": "3036b617",
   "metadata": {},
   "outputs": [
    {
     "name": "stdout",
     "output_type": "stream",
     "text": [
      "파이썬 시작하는 날 두근두근!\n"
     ]
    }
   ],
   "source": [
    "msg ='파이썬 시작하는 날 두근두근!'\n",
    "print(msg)"
   ]
  },
  {
   "cell_type": "code",
   "execution_count": 24,
   "id": "ba95f838",
   "metadata": {},
   "outputs": [
    {
     "name": "stdout",
     "output_type": "stream",
     "text": [
      "None\n"
     ]
    }
   ],
   "source": [
    "hello=None\n",
    "print(hello)"
   ]
  },
  {
   "cell_type": "code",
   "execution_count": 28,
   "id": "69a82723",
   "metadata": {},
   "outputs": [],
   "source": [
    "#Lab 01 - 파이썬 시작하기 , 변수와 연산자\n",
    "## #05. 연산자의 활용\n",
    "### 대입 연산자를 활용한 SWAP 처리"
   ]
  },
  {
   "cell_type": "code",
   "execution_count": 29,
   "id": "c40e7610",
   "metadata": {},
   "outputs": [
    {
     "name": "stdout",
     "output_type": "stream",
     "text": [
      "1\n",
      "2\n",
      "2\n",
      "1\n"
     ]
    }
   ],
   "source": [
    "#a랑 b 변수에 대입된 항목들을 서로 바꿔주는 역할도 할 수 있음\n",
    "a=1\n",
    "b=2\n",
    "print(a)\n",
    "print(b)\n",
    "\n",
    "\n",
    "a,b = b,a\n",
    "print(a)\n",
    "print(b)\n",
    "\n",
    "\n"
   ]
  },
  {
   "cell_type": "code",
   "execution_count": 34,
   "id": "dd591d8b",
   "metadata": {},
   "outputs": [
    {
     "name": "stdout",
     "output_type": "stream",
     "text": [
      "7\n"
     ]
    }
   ],
   "source": [
    "###산술 연산자 사용하기\n",
    "a=3\n",
    "b=4\n",
    "c=a+b\n",
    "print(c)"
   ]
  },
  {
   "cell_type": "code",
   "execution_count": 36,
   "id": "f59c290e",
   "metadata": {},
   "outputs": [
    {
     "name": "stdout",
     "output_type": "stream",
     "text": [
      "10\n",
      "200\n",
      "10.0\n",
      "10\n",
      "1\n",
      "125\n"
     ]
    }
   ],
   "source": [
    "print(100-90)\n",
    "print(50*4)\n",
    "print(50/5)\n",
    "print(51//5)\n",
    "print(51%5)\n",
    "print(5**3)"
   ]
  },
  {
   "cell_type": "code",
   "execution_count": 39,
   "id": "61d784a4",
   "metadata": {},
   "outputs": [
    {
     "name": "stdout",
     "output_type": "stream",
     "text": [
      "3\n"
     ]
    }
   ],
   "source": [
    "### 단항 연산자\n",
    "\n",
    "\n",
    "a=5\n",
    "a+=100 # 105가 나옫겠지\n",
    "a*= 6 # 630 이 나오겠지\n",
    "a//=10 # 63이 나오겠지\n",
    "a%=6 # 3이나오겠지\n",
    "\n",
    "print(a)"
   ]
  },
  {
   "cell_type": "code",
   "execution_count": 40,
   "id": "57a79477",
   "metadata": {},
   "outputs": [
    {
     "name": "stdout",
     "output_type": "stream",
     "text": [
      "True\n",
      "True\n",
      "True\n",
      "True\n",
      "False\n"
     ]
    }
   ],
   "source": [
    "### 비교 연산자\n",
    "print(100==100)\n",
    "print (100 != 50)\n",
    "print(100>=50)\n",
    "print(100>50)\n",
    "print(100<50)\n"
   ]
  },
  {
   "cell_type": "code",
   "execution_count": null,
   "id": "e5c43677",
   "metadata": {},
   "outputs": [
    {
     "name": "stdout",
     "output_type": "stream",
     "text": [
      "False\n"
     ]
    }
   ],
   "source": [
    "###비교 연산과 논리 연산은 결합되어 사용할 수 있다\n",
    "a=500>100\n",
    "b=50/5 <10\n",
    "\n",
    "print(a and b)"
   ]
  },
  {
   "cell_type": "code",
   "execution_count": 44,
   "id": "2fb9f9a0",
   "metadata": {},
   "outputs": [
    {
     "name": "stdout",
     "output_type": "stream",
     "text": [
      "True\n"
     ]
    }
   ],
   "source": [
    "### 비교 연산 > 논리 연산 순서로 처리된다\n",
    "c=1000>=500 and 50==50\n",
    "print(c)"
   ]
  },
  {
   "cell_type": "code",
   "execution_count": 46,
   "id": "c92a9e68",
   "metadata": {},
   "outputs": [
    {
     "name": "stdout",
     "output_type": "stream",
     "text": [
      "True\n",
      "False\n"
     ]
    }
   ],
   "source": [
    "x=100\n",
    "y=100.0\n",
    "\n",
    "print(x==y)\n",
    "print(x is y)"
   ]
  }
 ],
 "metadata": {
  "kernelspec": {
   "display_name": "Python 3",
   "language": "python",
   "name": "python3"
  },
  "language_info": {
   "codemirror_mode": {
    "name": "ipython",
    "version": 3
   },
   "file_extension": ".py",
   "mimetype": "text/x-python",
   "name": "python",
   "nbconvert_exporter": "python",
   "pygments_lexer": "ipython3",
   "version": "3.13.9"
  }
 },
 "nbformat": 4,
 "nbformat_minor": 5
}
