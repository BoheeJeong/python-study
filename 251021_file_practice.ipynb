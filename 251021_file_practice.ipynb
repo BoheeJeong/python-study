{
 "cells": [
  {
   "cell_type": "code",
   "execution_count": 7,
   "id": "24344af0",
   "metadata": {},
   "outputs": [
    {
     "name": "stdout",
     "output_type": "stream",
     "text": [
      "hello world!\n",
      "나는 홍찌라는 햄스터를 키운다람쥐\n",
      "\n"
     ]
    }
   ],
   "source": [
    "# 파일 쓰기\n",
    "f = open(\"./helloworld3.txt\", \"w\", encoding=\"utf-8\")\n",
    "f.write(\"hello world!\\n\")\n",
    "f.write(\"나는 홍찌라는 햄스터를 키운다람쥐\\n\")\n",
    "f.close()\n",
    "\n",
    "# 파일 읽기\n",
    "f = open(\"./helloworld3.txt\", \"r\", encoding=\"utf-8\")\n",
    "data = f.read()\n",
    "print(data)\n",
    "f.close()\n"
   ]
  },
  {
   "cell_type": "code",
   "execution_count": 8,
   "id": "878324e4",
   "metadata": {},
   "outputs": [
    {
     "name": "stdout",
     "output_type": "stream",
     "text": [
      "hello world!\n",
      "나는 홍찌라는 햄스터를 키운다람쥐\n",
      "\n"
     ]
    }
   ],
   "source": [
    "# 파일 쓰기\n",
    "with open(\"./helloworld.txt\", \"w\", encoding=\"utf-8\") as f:\n",
    "    f.write(\"hello world!\\n\")\n",
    "    f.write(\"나는 홍찌라는 햄스터를 키운다람쥐\\n\")\n",
    "\n",
    "# 파일 읽기\n",
    "with open(\"./helloworld.txt\", \"r\", encoding=\"utf-8\") as f:\n",
    "    data = f.read()\n",
    "    print(data)\n"
   ]
  },
  {
   "cell_type": "code",
   "execution_count": 9,
   "id": "eafc00ce",
   "metadata": {},
   "outputs": [
    {
     "name": "stdout",
     "output_type": "stream",
     "text": [
      "hello world!\n",
      "나는 홍찌라는 햄스터를 키운다람쥐\n",
      "\n"
     ]
    }
   ],
   "source": [
    "f=open(\"./helloworld2.txt\",'w',encoding='utf-8')\n",
    "f.write('hello world!\\n')\n",
    "f.write('나는 홍찌라는 햄스터를 키운다람쥐\\n')\n",
    "f.close()\n",
    "\n",
    "\n",
    "f=open('./helloworld2.txt',\"r\",encoding='utf-8')\n",
    "data=f.read()\n",
    "print(data)\n",
    "f.close()\n",
    "\n"
   ]
  }
 ],
 "metadata": {
  "kernelspec": {
   "display_name": "Python 3",
   "language": "python",
   "name": "python3"
  },
  "language_info": {
   "codemirror_mode": {
    "name": "ipython",
    "version": 3
   },
   "file_extension": ".py",
   "mimetype": "text/x-python",
   "name": "python",
   "nbconvert_exporter": "python",
   "pygments_lexer": "ipython3",
   "version": "3.13.9"
  }
 },
 "nbformat": 4,
 "nbformat_minor": 5
}
