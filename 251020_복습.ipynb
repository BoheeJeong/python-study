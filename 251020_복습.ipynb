{
 "cells": [
  {
   "cell_type": "code",
   "execution_count": null,
   "id": "afa58159",
   "metadata": {},
   "outputs": [],
   "source": [
    "#오늘의 복습 내용\n",
    "\n",
    "#리스트 2개에 있는 각각의 총합과 평균값 구해보기\n",
    "#짝수는 짞수끼리 홀수는 홀수끼리 더해보기\n",
    "#3과 5의 공배수 찾아보기\n",
    "#별찍기\n",
    "#구구단\n",
    "\n",
    "\n",
    "#f스트링\n",
    "#내장함수들 복습"
   ]
  },
  {
   "cell_type": "code",
   "execution_count": 26,
   "id": "eb01c3d0",
   "metadata": {},
   "outputs": [
    {
     "name": "stdout",
     "output_type": "stream",
     "text": [
      "내가 가진 이차원 리스트 안의 리스트는 각각 [74, 85, 97, 34]\n",
      "총합은 290 평균은 72\n",
      "내가 가진 이차원 리스트 안의 리스트는 각각 [35, 68, 79, 64]\n",
      "총합은 246 평균은 61\n"
     ]
    }
   ],
   "source": [
    "a=[[74,85,97,34],[35,68,79,64]]  #두번쨰 방버 이따가\n",
    "\n",
    "# 1) 우선 2차원 리스트를 각각의 리스트로 풀어준다\n",
    "# 2) 각각 풀어진 리스트의 수 만큼 내부 리스트안의 원소를 풀어준다\n",
    "# 3) 풀어진 원소들을 각각의 반복 루프 안에서 누적으로 더해준다\n",
    "\n",
    "\n",
    "for list_in_list in a:\n",
    "  print('내가 가진 이차원 리스트 안의 리스트는 각각',list_in_list)\n",
    "  sum=0\n",
    "  \n",
    "  for score_in_list in list_in_list:\n",
    "    sum+=score_in_list\n",
    "  print('총합은',sum,'평균은',sum//len(list_in_list))\n",
    "\n",
    "\n"
   ]
  },
  {
   "cell_type": "code",
   "execution_count": 37,
   "id": "475aed47",
   "metadata": {},
   "outputs": [
    {
     "name": "stdout",
     "output_type": "stream",
     "text": [
      "내가 가진 이차원 리스트 안의 0 번째 리스트는 각각 [74, 85, 97, 34]\n",
      "총합은 290 평균은 72\n",
      "내가 가진 이차원 리스트 안의 1 번째 리스트는 각각 [35, 68, 79, 64]\n",
      "총합은 246 평균은 61\n"
     ]
    }
   ],
   "source": [
    "a=[[74,85,97,34],[35,68,79,64]]  #두번쨰 방버 이따가\n",
    "\n",
    "# 1) 우선 2차원 리스트를 각각의 리스트로 풀어준다\n",
    "# 2) 각각 풀어진 리스트의 수 만큼 내부 리스트안의 원소를 풀어준다\n",
    "# 3) 풀어진 원소들을 각각의 반복 루프 안에서 누적으로 더해준다\n",
    "\n",
    "\n",
    "for i in range(0,len(a)):\n",
    "  print('내가 가진 이차원 리스트 안의 %s 번째 리스트는 각각'%i,a[i] )\n",
    "  \n",
    "  sum=0\n",
    "  for j in range(0,len(a[i])):\n",
    "    sum+=a[i][j]\n",
    "  print('총합은',sum,'평균은',sum//len(a[i]))\n",
    "\n",
    "\n",
    "\n",
    "\n",
    "\n",
    "\n",
    "\n",
    "\n",
    "\n"
   ]
  },
  {
   "cell_type": "code",
   "execution_count": 15,
   "id": "1ae920b4",
   "metadata": {},
   "outputs": [
    {
     "name": "stdout",
     "output_type": "stream",
     "text": [
      "x의 누적합은 2550 y의 누적합은 2500\n"
     ]
    }
   ],
   "source": [
    "#짝수는 짞수끼리 홀수는 홀수끼리 더해보기\n",
    "\n",
    "# 1)내가 스캔할 숫자 범위를 정해준다\n",
    "# 2) 짝수와 홀수의 누적합을 구해줄 변수를 만들어둔다\n",
    "# 3)스캔해서 2로 나눴을 때 나머지가 0인것과 아닌 것을 분리한다\n",
    "# 4)분리된 항목들을 따로 따로 더해서 x,y 에 넣어준다\n",
    "\n",
    "\n",
    "x=0\n",
    "y=0\n",
    "\n",
    "for i in range (1,101):\n",
    "  if i %2 ==0:\n",
    "    x+=i\n",
    "  else:\n",
    "    y+=i\n",
    "print('x의 누적합은',x,'y의 누적합은',y)\n"
   ]
  },
  {
   "cell_type": "code",
   "execution_count": 17,
   "id": "1f227f1a",
   "metadata": {},
   "outputs": [
    {
     "name": "stdout",
     "output_type": "stream",
     "text": [
      "15\n",
      "30\n",
      "45\n",
      "60\n",
      "75\n",
      "90\n"
     ]
    }
   ],
   "source": [
    "#3과 5의 공배수 찾아보기\n",
    "\n",
    "# 1)내가 찾을 공배수 숫자를 지정해준다\n",
    "# 2) 1-100까지 스캔한 숫자 중 3으로 나눴을 떄 그리고 5로 나눴을 때의 나머지가 모두 0인 경우를 프린트 한다\n",
    "\n",
    "x=3\n",
    "y=5\n",
    "\n",
    "for i in range(1,101):\n",
    "  if i%3==0 and i%5==0:\n",
    "    print(i)"
   ]
  },
  {
   "cell_type": "code",
   "execution_count": 19,
   "id": "757428c6",
   "metadata": {},
   "outputs": [
    {
     "name": "stdout",
     "output_type": "stream",
     "text": [
      "*\n",
      "**\n",
      "***\n",
      "****\n",
      "*****\n"
     ]
    }
   ],
   "source": [
    "#별찍기\n",
    "\n",
    "# 1) 첫 행에는 별 한개, 두번쨰 행에는 별 두개, 즉 행의 순서와 찍혀야하는 별의 수가 같음을 인지한다\n",
    "# 2) 별의 수를 반복될 때 마다 리셋해준다\n",
    "\n",
    "\n",
    "\n",
    "for i in range(0,5):\n",
    "  sum=\"\"\n",
    "  for j in range(0,i+1):\n",
    "    sum+=\"*\"\n",
    "  print(sum)\n"
   ]
  },
  {
   "cell_type": "code",
   "execution_count": 25,
   "id": "dd583058",
   "metadata": {},
   "outputs": [
    {
     "name": "stdout",
     "output_type": "stream",
     "text": [
      "2 단 구구단\n",
      "2 x 1 = 2\n",
      "2 x 2 = 4\n",
      "2 x 3 = 6\n",
      "2 x 4 = 8\n",
      "2 x 5 = 10\n",
      "2 x 6 = 12\n",
      "2 x 7 = 14\n",
      "2 x 8 = 16\n",
      "2 x 9 = 18\n",
      "==========\n",
      "3 단 구구단\n",
      "3 x 1 = 3\n",
      "3 x 2 = 6\n",
      "3 x 3 = 9\n",
      "3 x 4 = 12\n",
      "3 x 5 = 15\n",
      "3 x 6 = 18\n",
      "3 x 7 = 21\n",
      "3 x 8 = 24\n",
      "3 x 9 = 27\n",
      "==========\n",
      "4 단 구구단\n",
      "4 x 1 = 4\n",
      "4 x 2 = 8\n",
      "4 x 3 = 12\n",
      "4 x 4 = 16\n",
      "4 x 5 = 20\n",
      "4 x 6 = 24\n",
      "4 x 7 = 28\n",
      "4 x 8 = 32\n",
      "4 x 9 = 36\n",
      "==========\n",
      "5 단 구구단\n",
      "5 x 1 = 5\n",
      "5 x 2 = 10\n",
      "5 x 3 = 15\n",
      "5 x 4 = 20\n",
      "5 x 5 = 25\n",
      "5 x 6 = 30\n",
      "5 x 7 = 35\n",
      "5 x 8 = 40\n",
      "5 x 9 = 45\n",
      "==========\n",
      "6 단 구구단\n",
      "6 x 1 = 6\n",
      "6 x 2 = 12\n",
      "6 x 3 = 18\n",
      "6 x 4 = 24\n",
      "6 x 5 = 30\n",
      "6 x 6 = 36\n",
      "6 x 7 = 42\n",
      "6 x 8 = 48\n",
      "6 x 9 = 54\n",
      "==========\n",
      "7 단 구구단\n",
      "7 x 1 = 7\n",
      "7 x 2 = 14\n",
      "7 x 3 = 21\n",
      "7 x 4 = 28\n",
      "7 x 5 = 35\n",
      "7 x 6 = 42\n",
      "7 x 7 = 49\n",
      "7 x 8 = 56\n",
      "7 x 9 = 63\n",
      "==========\n",
      "8 단 구구단\n",
      "8 x 1 = 8\n",
      "8 x 2 = 16\n",
      "8 x 3 = 24\n",
      "8 x 4 = 32\n",
      "8 x 5 = 40\n",
      "8 x 6 = 48\n",
      "8 x 7 = 56\n",
      "8 x 8 = 64\n",
      "8 x 9 = 72\n",
      "==========\n",
      "9 단 구구단\n",
      "9 x 1 = 9\n",
      "9 x 2 = 18\n",
      "9 x 3 = 27\n",
      "9 x 4 = 36\n",
      "9 x 5 = 45\n",
      "9 x 6 = 54\n",
      "9 x 7 = 63\n",
      "9 x 8 = 72\n",
      "9 x 9 = 81\n",
      "==========\n"
     ]
    }
   ],
   "source": [
    "#구구단을 해보자\n",
    "\n",
    "\n",
    "# 1) 구구단을 만들 때 필요한 항목들을 생각해보자\n",
    "# 2) 몇 단인지 , 각 단에대해서 1-9까지의 숫자, 그리고 곱해진 결과값\n",
    "# 3) 각 단마다 1-9 만큼씩이 반복되어야 한다\n",
    "\n",
    "for i in range(2,10):\n",
    "  print(i ,'단 구구단')\n",
    "\n",
    "  for j in range(1,10):\n",
    "    z=i*j\n",
    "    print(i,'x',j,'=',z)\n",
    "  print(\"==========\")\n"
   ]
  },
  {
   "cell_type": "code",
   "execution_count": null,
   "id": "f26b220a",
   "metadata": {},
   "outputs": [
    {
     "name": "stdout",
     "output_type": "stream",
     "text": [
      "나는 20세 입니다\n",
      "나는 4 학년 2반 입니다\n",
      "나의 이름은 정보희 이고 나이는 27 입니다\n",
      "나의 이름은 정보희 이고 나이는 27 입니다\n",
      "나의 이름은 정보희 이고 나이는 27 입니다\n"
     ]
    }
   ],
   "source": [
    "str=\"나는 %d세 입니다\"\n",
    "print(str%20)\n",
    "\n",
    "print(\"나는 %d 학년 %d반 입니다\" %(4,2))\n",
    "\n",
    "\n",
    "\n",
    "print(\"나의 이름은 %s 이고 나이는 %d 입니다\"%('정보희',27))\n",
    "\n",
    "\n",
    "a=\"나의 이름은 {0} 이고 나이는 {1} 입니다\"\n",
    "b=a.format('정보희',27)\n",
    "print(b)\n",
    "\n",
    "\n",
    "c=\"나의 이름은 {name} 이고 나이는 {age} 입니다\"\n",
    "d=c.format(name='정보희',27)\n",
    "print(d)\n"
   ]
  }
 ],
 "metadata": {
  "kernelspec": {
   "display_name": "Python 3",
   "language": "python",
   "name": "python3"
  },
  "language_info": {
   "codemirror_mode": {
    "name": "ipython",
    "version": 3
   },
   "file_extension": ".py",
   "mimetype": "text/x-python",
   "name": "python",
   "nbconvert_exporter": "python",
   "pygments_lexer": "ipython3",
   "version": "3.13.9"
  }
 },
 "nbformat": 4,
 "nbformat_minor": 5
}
