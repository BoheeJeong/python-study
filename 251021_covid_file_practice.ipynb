{
 "cells": [
  {
   "cell_type": "markdown",
   "id": "f6d02273",
   "metadata": {},
   "source": [
    "# 파일 입출력\n",
    "### CSV 파일 다루기\n",
    "#### COVID로 인한 서울시와 전국 단위 일평균 확진/사망"
   ]
  },
  {
   "cell_type": "code",
   "execution_count": 2,
   "id": "4b2bb92e",
   "metadata": {},
   "outputs": [
    {
     "ename": "IndentationError",
     "evalue": "unindent does not match any outer indentation level (<string>, line 28)",
     "output_type": "error",
     "traceback": [
      "  \u001b[36mFile \u001b[39m\u001b[32m<string>:28\u001b[39m\n\u001b[31m    \u001b[39m\u001b[31mk=line.strip().split(\",\")\u001b[39m\n                             ^\n\u001b[31mIndentationError\u001b[39m\u001b[31m:\u001b[39m unindent does not match any outer indentation level\n"
     ]
    }
   ],
   "source": [
    "# 1) 파일을 오픈한다\n",
    "# 2) 오픈한 파일을 readlines 를 통해 각 행을 리스트화 한다\n",
    "# 3) 필요한 변수를 사전에 준비한다 (누적합용 , 평균 계산용 총 개수)\n",
    "# 4) readlines 로 리스트화 된 항목들을 enumerate 하여 순서와 각 리스트들을 불러온다\n",
    "# 5) 제목 행은 패스하기 위해 순서가 0 인 것은 continue로 함수를 이어간다\n",
    "# 6) 하나의 string 으로 되어있는 리스트를 , 를 기준으로 split 하고 앞뒤의 공백을 제거해준다\n",
    "# 7) 리스트화 된 값들이 내가 필요한 값이니 계산하고자 했던 총 누적값을 구한다\n",
    "# 8)누적값을 이용하여 총합계값과 평균값을 구한다\n",
    "#앞 뒤로 try 와 except 를 통해 오류가 나는 상황에 대비한다\n",
    "\n",
    "\n",
    "with open('covid19.csv','r',encoding=\"utf-8\") as f:\n",
    "  csv_lines = f.readlines()\n",
    "\n",
    "  size =len(csv_lines)-1\n",
    "  \n",
    "  #필요한 변수 생성\n",
    "  seoul_total_sum =0\n",
    "  seoul_total_dead_sum =0  \n",
    "\n",
    "  korea_total_sum =0\n",
    "  korea_total_dead_sum =0\n",
    " \n",
    "  for i,line enumerate(csv_lines):\n",
    "     if i ==0:\n",
    "       continue\n",
    "\n",
    "    k=line.strip().split(\",\")\n",
    "  \n",
    "\n",
    "    if k[1].isnumeric(): seoul_total_sum += int(k[1])\n",
    "    if k[2].isnumeric(): seoul_total_dead_sum += int(k[2])\n",
    "\n",
    "    if k[3].isnumeric(): korea_total_sum += int(k[3])\n",
    "    if k[4].isnumeric(): korea_total_dead_sum += int(k[4])\n",
    "  \n",
    "  print(\"서울 일 평균 확진자 수: %.2f 명\" %(seoul_total_sum/size))\n",
    "\n",
    "\n",
    "\n",
    "\n",
    "\n",
    "\n",
    "\n",
    "\n",
    "\n"
   ]
  },
  {
   "cell_type": "code",
   "execution_count": 2,
   "id": "0048ab5f",
   "metadata": {},
   "outputs": [
    {
     "name": "stdout",
     "output_type": "stream",
     "text": [
      "서울시 코로나 일평균 코로나 사망자 수 3\n",
      "서울시 코로나 일평균 코로나 확진자 수 5119\n",
      "한국 코로나 일평균 코로나 사망자수 19\n",
      "한국 코로나 일평균 코로나 확진자 수 26141\n"
     ]
    }
   ],
   "source": [
    "# 1) 파일을 오픈한다\n",
    "# 2) 오픈한 파일을 readlines 를 통해 각 행을 리스트화 한다\n",
    "# 3) 필요한 변수를 사전에 준비한다 (누적합용 , 평균 계산용 총 개수)\n",
    "# 4) readlines 로 리스트화 된 항목들을 enumerate 하여 순서와 각 리스트들을 불러온다\n",
    "# 5) 제목 행은 패스하기 위해 순서가 0 인 것은 continue로 함수를 이어간다\n",
    "# 6) 하나의 string 으로 되어있는 리스트를 , 를 기준으로 split 하고 앞뒤의 공백을 제거해준다\n",
    "# 7) 리스트화 된 값들이 내가 필요한 값이니 계산하고자 했던 총 누적값을 구한다\n",
    "# 8)누적값을 이용하여 총합계값과 평균값을 구한다\n",
    "\n",
    "\n",
    "with open(\"covid19.csv\",\"r\",encoding=\"utf-8\") as f:\n",
    "  csv_lines=f.readlines()\n",
    "  # for i in range(100):\n",
    "  #   print(csv_lines[i])\n",
    "\n",
    "  size =len(csv_lines)-1\n",
    "\n",
    "  seoul_dead_total=0\n",
    "  seoul_total=0\n",
    "\n",
    "  korea_dead_total=0\n",
    "  korea_total=0\n",
    "\n",
    "\n",
    "  for v,line in enumerate(csv_lines):\n",
    "    if v==0 :\n",
    "      continue\n",
    "\n",
    "    k=line.strip().split(\",\")\n",
    "\n",
    "    if k[1].isnumeric():\n",
    "      seoul_total+=int(k[1])\n",
    "\n",
    "    if k[2].isnumeric():\n",
    "      seoul_dead_total+=int(k[2])\n",
    "\n",
    "    if k[3].isnumeric():\n",
    "      korea_total+=int(k[3])\n",
    "\n",
    "    if k[4].isnumeric():\n",
    "      korea_dead_total+=int(k[4])\n",
    "\n",
    "\n",
    "  print(\"서울시 코로나 일평균 코로나 사망자 수\", seoul_dead_total//size)\n",
    "  print(\"서울시 코로나 일평균 코로나 확진자 수\",seoul_total//size)\n",
    "  print(\"한국 코로나 일평균 코로나 사망자수\",korea_dead_total//size)\n",
    "  print(\"한국 코로나 일평균 코로나 확진자 수\",korea_total//size)\n",
    "\n",
    "\n",
    "      "
   ]
  }
 ],
 "metadata": {
  "kernelspec": {
   "display_name": "Python 3",
   "language": "python",
   "name": "python3"
  },
  "language_info": {
   "codemirror_mode": {
    "name": "ipython",
    "version": 3
   },
   "file_extension": ".py",
   "mimetype": "text/x-python",
   "name": "python",
   "nbconvert_exporter": "python",
   "pygments_lexer": "ipython3",
   "version": "3.13.9"
  }
 },
 "nbformat": 4,
 "nbformat_minor": 5
}
