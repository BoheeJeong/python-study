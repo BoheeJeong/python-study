{
 "cells": [
  {
   "cell_type": "code",
   "execution_count": 14,
   "id": "d5e6fefe",
   "metadata": {},
   "outputs": [
    {
     "name": "stdout",
     "output_type": "stream",
     "text": [
      "<class 'int'>\n"
     ]
    }
   ],
   "source": [
    "age = 20\n",
    "typeOfAge = type(age)\n",
    "print(typeOfAge)"
   ]
  },
  {
   "cell_type": "code",
   "execution_count": 15,
   "id": "212f9663",
   "metadata": {},
   "outputs": [
    {
     "name": "stdout",
     "output_type": "stream",
     "text": [
      "<class 'float'>\n"
     ]
    }
   ],
   "source": [
    "pi=3.14\n",
    "typeOfPi=type(pi)\n",
    "print(typeOfPi)"
   ]
  },
  {
   "cell_type": "code",
   "execution_count": 16,
   "id": "2cd0ab67",
   "metadata": {},
   "outputs": [
    {
     "name": "stdout",
     "output_type": "stream",
     "text": [
      "<class 'str'>\n"
     ]
    }
   ],
   "source": [
    "message=\"hello python\"\n",
    "typeOfMessage = type(message)\n",
    "print(typeOfMessage)"
   ]
  },
  {
   "cell_type": "code",
   "execution_count": 19,
   "id": "a9dfdf61",
   "metadata": {},
   "outputs": [
    {
     "name": "stdout",
     "output_type": "stream",
     "text": [
      "<class 'bool'>\n"
     ]
    }
   ],
   "source": [
    "ok=True\n",
    "typeOfOk = type(ok)\n",
    "print(typeOfOk)"
   ]
  },
  {
   "cell_type": "code",
   "execution_count": 21,
   "id": "186952e4",
   "metadata": {},
   "outputs": [
    {
     "name": "stdout",
     "output_type": "stream",
     "text": [
      "Life is too short 100 3.14 True\n"
     ]
    }
   ],
   "source": [
    "a=100\n",
    "b=3.14\n",
    "c=True\n",
    "\n",
    "print(\"Life\",\"is\",\"too\",\"short\",a,b,c)\n"
   ]
  },
  {
   "cell_type": "code",
   "execution_count": 24,
   "id": "a60fbefa",
   "metadata": {},
   "outputs": [
    {
     "name": "stdout",
     "output_type": "stream",
     "text": [
      "안녕하세요 데이터 타입이 궁금해요!\n"
     ]
    }
   ],
   "source": [
    "message = input(\"메세지를 입력하세요!\")\n",
    "print(message)"
   ]
  },
  {
   "cell_type": "code",
   "execution_count": 26,
   "id": "e1eecdb3",
   "metadata": {},
   "outputs": [
    {
     "name": "stdout",
     "output_type": "stream",
     "text": [
      "<class 'str'>\n"
     ]
    }
   ],
   "source": [
    "t=type(message)\n",
    "print(t)"
   ]
  },
  {
   "cell_type": "code",
   "execution_count": 29,
   "id": "e9f6218c",
   "metadata": {},
   "outputs": [
    {
     "name": "stdout",
     "output_type": "stream",
     "text": [
      "안녕하세요 저는 햄스터를 키우고 있어요\n"
     ]
    }
   ],
   "source": [
    "#문자열을 더하면 연결하게 된다\n",
    "a=\"안녕하세요 \"\n",
    "b=\"저는 햄스터를 키우고 있어요\"\n",
    "print(a+b)"
   ]
  },
  {
   "cell_type": "code",
   "execution_count": 32,
   "id": "dc9546d8",
   "metadata": {},
   "outputs": [
    {
     "name": "stdout",
     "output_type": "stream",
     "text": [
      "500001000\n"
     ]
    }
   ],
   "source": [
    "#input 으로 입력받은 항목은 모두 str 값으로 인식\n",
    "money=input(\"금액을 입력해주세요\")\n",
    "change=input(\"잔액을 입력해주세요\")\n",
    "print(money+change)\n"
   ]
  },
  {
   "cell_type": "code",
   "execution_count": 34,
   "id": "01e97e06",
   "metadata": {},
   "outputs": [
    {
     "name": "stdout",
     "output_type": "stream",
     "text": [
      "501000\n"
     ]
    }
   ],
   "source": [
    "#input 으로 입력받은 항목은 모두 str 값으로 인식, 따라서 내가 원하는 형태로 형변환을 해줘야 한다\n",
    "money=int(input(\"금액을 입력해주세요\"))\n",
    "change=int(input(\"잔액을 입력해주세요\"))\n",
    "print(money+change)"
   ]
  },
  {
   "cell_type": "code",
   "execution_count": 37,
   "id": "8c3ecc6d",
   "metadata": {},
   "outputs": [
    {
     "name": "stdout",
     "output_type": "stream",
     "text": [
      "503.71000000000004\n"
     ]
    }
   ],
   "source": [
    "#문자형 데이터는 float 으로 살수로 만들어 줄 수 있음\n",
    "a=\"152.36\"\n",
    "b=\"351.35\"\n",
    "\n",
    "a2=float(a)\n",
    "b2=float(b)\n",
    "\n",
    "print(a2+b2)"
   ]
  },
  {
   "cell_type": "code",
   "execution_count": 42,
   "id": "54b8de32",
   "metadata": {},
   "outputs": [
    {
     "name": "stdout",
     "output_type": "stream",
     "text": [
      "9080\n"
     ]
    }
   ],
   "source": [
    "#사용자가 입력한 값에 대해서 정수 혹은 실수로 변환해줄 수 있음\n",
    "\n",
    "\n",
    "math=input(\"수학 성적을 입력하세요\")\n",
    "science = input(\"과학 성적을 입력하세요\")\n",
    "print(math+science)\n"
   ]
  },
  {
   "cell_type": "code",
   "execution_count": 49,
   "id": "39c5c4cb",
   "metadata": {},
   "outputs": [
    {
     "name": "stdout",
     "output_type": "stream",
     "text": [
      "170\n"
     ]
    }
   ],
   "source": [
    "#사용자가 입력한 값에 대해서 정수 혹은 실수로 변환해줄 수 있음\n",
    "\n",
    "math=input(\"수학 성적을 입력하세요\")\n",
    "science = input(\"과학 성적을 입력하세요\")\n",
    "\n",
    "math_score=int(math)\n",
    "science_score=int(science)\n",
    "\n",
    "print(math_score+science_score)"
   ]
  },
  {
   "cell_type": "code",
   "execution_count": 61,
   "id": "49dcba94",
   "metadata": {},
   "outputs": [
    {
     "name": "stdout",
     "output_type": "stream",
     "text": [
      "<class 'str'>\n",
      "<class 'int'>\n"
     ]
    }
   ],
   "source": [
    "budget=input(\"이번달 총 예산을 입력해주세요\")\n",
    "int_budget=int(budget)\n",
    "\n",
    "print(type(budget))\n",
    "print(type(int_budget))\n",
    "\n"
   ]
  },
  {
   "cell_type": "code",
   "execution_count": 58,
   "id": "5b5fb879",
   "metadata": {},
   "outputs": [
    {
     "name": "stdout",
     "output_type": "stream",
     "text": [
      "왼쪽시력은 1.2 이고 오른쪽 시력은 1.3 이며 평균 시력은 1.2\n"
     ]
    }
   ],
   "source": [
    "def avg(a,b):\n",
    "    return round((a+b)/2,2)\n",
    "\n",
    "left_sight=float(input(\"왼쪽 시력을 입력해주세요\"))\n",
    "right_sight=float(input('오른쪽 시력을 입력해주세요'))\n",
    "\n",
    "print(\"왼쪽시력은\" ,left_sight ,'이고', \"오른쪽 시력은\" , right_sight,'이며','평균 시력은',avg(right_sight,left_sight))\n",
    "\n"
   ]
  },
  {
   "cell_type": "code",
   "execution_count": 60,
   "id": "e8f1ab93",
   "metadata": {},
   "outputs": [
    {
     "name": "stdout",
     "output_type": "stream",
     "text": [
      "256\n",
      "100\n",
      "100\n",
      "입력한 실수는 5.469847 이고, 정수로 만들면 5 둘쨰 자리에서 반올림하면 5.47 입니다\n"
     ]
    }
   ],
   "source": [
    "#제곱근 구하기\n",
    "a=pow(2,8)\n",
    "print(a)\n",
    "\n",
    "\n",
    "#절대값 구하기\n",
    "a=abs(100)\n",
    "print(a)\n",
    "\n",
    "\n",
    "b=abs(-100)\n",
    "print(b)\n",
    "\n",
    "c=float(input(\"소수점 두자리 이상 있는 실수를 입력해주세요\"))\n",
    "print('입력한 실수는',c,'이고,',\"정수로 만들면\",round(c),\"둘쨰 자리에서 반올림하면\",round(c,2),'입니다')"
   ]
  },
  {
   "cell_type": "code",
   "execution_count": 65,
   "id": "92123e21",
   "metadata": {},
   "outputs": [
    {
     "name": "stdout",
     "output_type": "stream",
     "text": [
      "첫 학기와 두번째 학기 학점은 각각 90.0 80.0 이고, 평균 학점은 130.0 입니다\n"
     ]
    }
   ],
   "source": [
    "first_semester = float(input(\"첫 학기의 학점을 입력해주세요\"))\n",
    "second_semester=float(input(\"두번쨰 학기의 학점을 입력해주세요\"))\n",
    "\n",
    "\n",
    "def avg(a,b):\n",
    "    return round(a+b/2,2)\n",
    "\n",
    "print(\"첫 학기와 두번째 학기 학점은 각각\", first_semester,second_semester ,\"이고, 평균 학점은\" , avg(first_semester,second_semester), '입니다')\n"
   ]
  },
  {
   "cell_type": "code",
   "execution_count": 74,
   "id": "11c20659",
   "metadata": {},
   "outputs": [
    {
     "name": "stdout",
     "output_type": "stream",
     "text": [
      "3\n",
      "None\n"
     ]
    }
   ],
   "source": [
    "def f(x):\n",
    "    y=x+1\n",
    "    print(y)\n",
    "\n",
    "print(f(2))\n",
    "    "
   ]
  },
  {
   "cell_type": "code",
   "execution_count": 75,
   "id": "b82803b2",
   "metadata": {},
   "outputs": [
    {
     "name": "stdout",
     "output_type": "stream",
     "text": [
      "3\n",
      "3\n"
     ]
    }
   ],
   "source": [
    "def f(x):\n",
    "    y=x+1\n",
    "    print(y)\n",
    "    return y\n",
    "\n",
    "print(f(2))\n",
    "    \n",
    "    b\n",
    "``"
   ]
  },
  {
   "cell_type": "code",
   "execution_count": 80,
   "id": "a383127f",
   "metadata": {},
   "outputs": [
    {
     "name": "stdout",
     "output_type": "stream",
     "text": [
      "3\n"
     ]
    },
    {
     "data": {
      "text/plain": [
       "3"
      ]
     },
     "execution_count": 80,
     "metadata": {},
     "output_type": "execute_result"
    }
   ],
   "source": [
    "def hello(x,y):\n",
    "    z=x+y\n",
    "    print(z)\n",
    "    return z\n",
    "\n",
    "\n",
    "hello(2,1)"
   ]
  },
  {
   "cell_type": "code",
   "execution_count": 84,
   "id": "826ae7aa",
   "metadata": {},
   "outputs": [
    {
     "name": "stdout",
     "output_type": "stream",
     "text": [
      "6\n",
      "30\n"
     ]
    }
   ],
   "source": [
    "def sum1(x,y,z=0):\n",
    "    answer = x+y+z\n",
    "    print(answer)\n",
    "\n",
    "sum1(1,2,3)\n",
    "sum1(10,20)"
   ]
  },
  {
   "cell_type": "code",
   "execution_count": 89,
   "id": "e8f8180b",
   "metadata": {},
   "outputs": [
    {
     "name": "stdout",
     "output_type": "stream",
     "text": [
      "27\n",
      "27\n"
     ]
    }
   ],
   "source": [
    "def total(a,b,c,d) :\n",
    "    z=a+b+c+d\n",
    "    print(z)\n",
    "\n",
    "\n",
    "total(4,6,8,9) \n",
    "total(d=9,c=8,b=6,a=4)   "
   ]
  },
  {
   "cell_type": "code",
   "execution_count": 90,
   "id": "1398539a",
   "metadata": {},
   "outputs": [
    {
     "name": "stdout",
     "output_type": "stream",
     "text": [
      "30\n",
      "300\n",
      "112\n"
     ]
    }
   ],
   "source": [
    "def plus(x,y):\n",
    "    z=x+y\n",
    "    return z\n",
    "\n",
    "#return z 가 있기 떄문에 plus(10,20)  값이 10+20을 한 z 값으로 대체된다\n",
    "a=plus(10,20)\n",
    "print(a)\n",
    "\n",
    "\n",
    "print(plus(100,200))\n",
    "\n",
    "\n",
    "b=plus(5,7) + 100\n",
    "print(b)"
   ]
  },
  {
   "cell_type": "code",
   "execution_count": 94,
   "id": "d4a9f2e0",
   "metadata": {},
   "outputs": [
    {
     "data": {
      "text/plain": [
       "0"
      ]
     },
     "execution_count": 94,
     "metadata": {},
     "output_type": "execute_result"
    }
   ],
   "source": [
    "def foo(x,y):\n",
    "    return 0\n",
    "    z=x+y\n",
    "    print(z)\n",
    "\n",
    "foo(1,2)"
   ]
  },
  {
   "cell_type": "code",
   "execution_count": 97,
   "id": "60d24d6f",
   "metadata": {},
   "outputs": [
    {
     "name": "stdout",
     "output_type": "stream",
     "text": [
      "3\n"
     ]
    },
    {
     "data": {
      "text/plain": [
       "3"
      ]
     },
     "execution_count": 97,
     "metadata": {},
     "output_type": "execute_result"
    }
   ],
   "source": [
    "def foo(x,y):\n",
    "    z=x+y\n",
    "    print(z)\n",
    "    return z\n",
    "\n",
    "foo(1,2)"
   ]
  },
  {
   "cell_type": "code",
   "execution_count": 102,
   "id": "c4b87d69",
   "metadata": {},
   "outputs": [
    {
     "ename": "NameError",
     "evalue": "name 'k' is not defined",
     "output_type": "error",
     "traceback": [
      "\u001b[31m---------------------------------------------------------------------------\u001b[39m",
      "\u001b[31mNameError\u001b[39m                                 Traceback (most recent call last)",
      "\u001b[36mCell\u001b[39m\u001b[36m \u001b[39m\u001b[32mIn[102]\u001b[39m\u001b[32m, line 8\u001b[39m\n\u001b[32m      5\u001b[39m     k=a+b\n\u001b[32m      6\u001b[39m     \u001b[38;5;28mprint\u001b[39m(k)\n\u001b[32m----> \u001b[39m\u001b[32m8\u001b[39m \u001b[38;5;28mprint\u001b[39m(\u001b[43mk\u001b[49m)\n",
      "\u001b[31mNameError\u001b[39m: name 'k' is not defined"
     ]
    }
   ],
   "source": [
    "a=100\n",
    "b=200\n",
    "\n",
    "def foo():\n",
    "    k=a+b\n",
    "    print(k)\n",
    "\n",
    "print(k)"
   ]
  },
  {
   "cell_type": "code",
   "execution_count": 104,
   "id": "ac3f72d4",
   "metadata": {},
   "outputs": [
    {
     "name": "stdout",
     "output_type": "stream",
     "text": [
      "5\n",
      "102\n"
     ]
    }
   ],
   "source": [
    "def solution(num1,num2):\n",
    "    answer=num1+num2\n",
    "    return answer\n",
    "    \n",
    "print(solution(2,3))\n",
    "print(solution(100,2))\n"
   ]
  },
  {
   "cell_type": "code",
   "execution_count": 107,
   "id": "bff8d893",
   "metadata": {},
   "outputs": [],
   "source": [
    "def solution(num1,num2):\n",
    "    answer=num1-num2\n",
    "    return answer "
   ]
  },
  {
   "cell_type": "code",
   "execution_count": 111,
   "id": "7f3a4f46",
   "metadata": {},
   "outputs": [
    {
     "name": "stdout",
     "output_type": "stream",
     "text": [
      "-1\n"
     ]
    }
   ],
   "source": [
    "def solution(num1,num2):\n",
    "    answer=num1-num2\n",
    "    return answer \n",
    "\n",
    "print(solution(2,3))"
   ]
  },
  {
   "cell_type": "code",
   "execution_count": 116,
   "id": "1319d928",
   "metadata": {},
   "outputs": [
    {
     "name": "stdout",
     "output_type": "stream",
     "text": [
      "2333\n"
     ]
    }
   ],
   "source": [
    "def solution(num1,num2):\n",
    "    answer=round((num1/num2)*1000)\n",
    "    return answer \n",
    "\n",
    "print(solution(7,3))"
   ]
  },
  {
   "cell_type": "code",
   "execution_count": 118,
   "id": "1477bbc8",
   "metadata": {},
   "outputs": [
    {
     "name": "stdout",
     "output_type": "stream",
     "text": [
      "a는 100보다 크거가 같습니다\n",
      "그러므로 이 부분은 출력됩니다\n"
     ]
    }
   ],
   "source": [
    "a=100\n",
    "if a >= 100:\n",
    "    print(\"a는 100보다 크기가 같습니다\")\n",
    "    print(\"그러므로 이 부분은 출력됩니다\")"
   ]
  },
  {
   "cell_type": "code",
   "execution_count": 120,
   "id": "c652c0ad",
   "metadata": {},
   "outputs": [
    {
     "name": "stdout",
     "output_type": "stream",
     "text": [
      "시험시작\n",
      "합격입니다\n",
      "시험끝\n"
     ]
    }
   ],
   "source": [
    "print(\"시험시작\")\n",
    "score=int((input(\"시험 점수를 입력하세요\")))\n",
    "if score >=60:\n",
    "    print(\"합격입니다\")\n",
    "print(\"시험끝\")"
   ]
  },
  {
   "cell_type": "code",
   "execution_count": 127,
   "id": "fdd6e6bb",
   "metadata": {},
   "outputs": [
    {
     "name": "stdout",
     "output_type": "stream",
     "text": [
      "택시를 타서\n",
      "집에 가요\n"
     ]
    }
   ],
   "source": [
    "money=100\n",
    "if money:\n",
    "    print(\"택시를 타서\")\n",
    "print(\"집에 가요\")"
   ]
  },
  {
   "cell_type": "code",
   "execution_count": 20,
   "id": "44fd755f",
   "metadata": {},
   "outputs": [
    {
     "name": "stdout",
     "output_type": "stream",
     "text": [
      "프로그래밍\n"
     ]
    }
   ],
   "source": [
    "name = ''\n",
    "if name:\n",
    "    print(name)\n",
    "print(\"프로그래밍\")"
   ]
  },
  {
   "cell_type": "code",
   "execution_count": 137,
   "id": "b34771d3",
   "metadata": {},
   "outputs": [
    {
     "name": "stdout",
     "output_type": "stream",
     "text": [
      "20살이 아닙니다\n",
      "성인 입니다\n"
     ]
    }
   ],
   "source": [
    "myage = int(input(\"나이를 입력하세요\"))\n",
    "\n",
    "if myage == 20:\n",
    "    print(\"20살 입니다\")\n",
    "\n",
    "if myage != 20 :\n",
    "    print(\"20살이 아닙니다\")\n",
    "\n",
    "if myage>19:\n",
    "    print(\"성인 입니다\")\n",
    "\n",
    "if myage <= 19:\n",
    "    print(\"청소년입니다\")                  \n",
    "                  \n",
    "\n"
   ]
  },
  {
   "cell_type": "code",
   "execution_count": 3,
   "id": "321b6bde",
   "metadata": {},
   "outputs": [
    {
     "name": "stdout",
     "output_type": "stream",
     "text": [
      "c학점 입니다\n"
     ]
    }
   ],
   "source": [
    "point=int(input(\"점수를 입력하세요\"))\n",
    "\n",
    "if point > 70 and point < 80:\n",
    "    print(\"c학점 입니다\")\n",
    "\n",
    "if point <= 70 or point > 80:\n",
    "    print(\"c학점이 아닙니다\")\n"
   ]
  },
  {
   "cell_type": "code",
   "execution_count": 10,
   "id": "18710bdb",
   "metadata": {},
   "outputs": [
    {
     "name": "stdout",
     "output_type": "stream",
     "text": [
      "한국사람이 아닙니다\n",
      "한국사람이 아닙니다\n",
      "한국사람이 아닙니다\n"
     ]
    }
   ],
   "source": [
    "isKorean=False\n",
    "\n",
    "\n",
    "if isKorean == True:\n",
    "    print(\"한국사람입니다\")\n",
    "\n",
    "if isKorean == False:\n",
    "    print(\"한국사람이 아닙니다\")\n",
    "\n",
    "\n",
    "if isKorean != True:\n",
    "    print(\"한국사람이 아닙니다\")\n",
    "\n",
    "\n",
    "if isKorean !=False:\n",
    "    print(\"한국사람입니다\")\n",
    "\n",
    "if isKorean:\n",
    "    print(\"한국사람입니다\")\n",
    "\n",
    "if not isKorean:\n",
    "    print(\"한국사람이 아닙니다\")"
   ]
  },
  {
   "cell_type": "code",
   "execution_count": 15,
   "id": "8e68af3f",
   "metadata": {},
   "outputs": [
    {
     "name": "stdout",
     "output_type": "stream",
     "text": [
      "시험시작\n",
      "합격입니다\n",
      "시험 끝\n"
     ]
    }
   ],
   "source": [
    "print(\"시험시작\")\n",
    "\n",
    "score = int(input(\"점수를 입력하세요\"))\n",
    "\n",
    "if score >= 60:\n",
    "    print(\"합격입니다\")\n",
    "\n",
    "else:\n",
    "    print(\"불합격입니다\")\n",
    "print(\"시험 끝\")"
   ]
  },
  {
   "cell_type": "code",
   "execution_count": 17,
   "id": "060185ef",
   "metadata": {},
   "outputs": [
    {
     "name": "stdout",
     "output_type": "stream",
     "text": [
      "한국 사람 입니다\n",
      "한국 사람 입니다\n"
     ]
    }
   ],
   "source": [
    "answer = input(\"한국인입니까? (Y/N)\")\n",
    "\n",
    "if answer == \"Y\":\n",
    "    isKorean = True\n",
    "\n",
    "else:\n",
    "    isKorean=False\n",
    "\n",
    "\n",
    "if isKorean:\n",
    "    print(\"한국 사람 입니다\")\n",
    "\n",
    "else:\n",
    "    print(\"한국 사람이 아닙니다\")\n",
    "\n",
    "\n",
    "if not isKorean:\n",
    "    print(\"한국 사람이 아닙니다\")\n",
    "\n",
    "else:\n",
    "    print(\"한국 사람 입니다\")"
   ]
  },
  {
   "cell_type": "code",
   "execution_count": 21,
   "id": "71e6e317",
   "metadata": {},
   "outputs": [
    {
     "name": "stdout",
     "output_type": "stream",
     "text": [
      "시험 시작\n",
      "F학점\n",
      "시험 끝\n"
     ]
    }
   ],
   "source": [
    "print (\"시험 시작\")\n",
    "\n",
    "\n",
    "point=int(input(\"점수를 입력하세요\"))\n",
    "\n",
    "if point > 90:\n",
    "    print(\"A학점\")\n",
    "\n",
    "elif point > 80:\n",
    "    print(\"B학점\")\n",
    "\n",
    "elif point > 70:\n",
    "    print(\"C학점\")\n",
    "\n",
    "else:\n",
    "    print(\"F학점\")\n",
    "print(\"시험 끝\")"
   ]
  },
  {
   "cell_type": "code",
   "execution_count": 36,
   "id": "db554a0d",
   "metadata": {},
   "outputs": [
    {
     "name": "stdout",
     "output_type": "stream",
     "text": [
      "(122000, 1)\n"
     ]
    }
   ],
   "source": [
    "def solution(n,k):\n",
    "    service=n//10\n",
    "    answer = 12000*n+k*2000-service*2000\n",
    "    return answer\n",
    "\n",
    "\n",
    "print(solution(10,2))"
   ]
  },
  {
   "cell_type": "code",
   "execution_count": null,
   "id": "d7a3020a",
   "metadata": {},
   "outputs": [
    {
     "name": "stdout",
     "output_type": "stream",
     "text": [
      "5\n",
      "3\n"
     ]
    }
   ],
   "source": [
    "a=28\n",
    "ant_5=a//5\n",
    "ant_6=a%5\n",
    "\n",
    "print(ant_5)\n",
    "print(ant_6)\n",
    "\n",
    "\n",
    "\n"
   ]
  },
  {
   "cell_type": "code",
   "execution_count": null,
   "id": "054e8cd7",
   "metadata": {},
   "outputs": [
    {
     "name": "stdout",
     "output_type": "stream",
     "text": [
      "x= 1\n",
      "x= 2\n",
      "x= 3\n",
      "x= 4\n",
      "x= 5\n",
      "x= 6\n",
      "x= 7\n",
      "x= 8\n",
      "x= 9\n",
      "x= 10\n",
      "x의 최종값 11\n"
     ]
    }
   ],
   "source": [
    "x=1  #초기식\n",
    "while x <= 10:   #조건식\n",
    "    print(\"x=\",x)\n",
    "    x +=1   #증감식\n",
    "print(\"x의 최종값\" ,x)"
   ]
  },
  {
   "cell_type": "code",
   "execution_count": 43,
   "id": "a08e34b1",
   "metadata": {},
   "outputs": [
    {
     "name": "stdout",
     "output_type": "stream",
     "text": [
      "8 X 1 = 8\n",
      "8 X 2 = 16\n",
      "8 X 3 = 24\n",
      "8 X 4 = 32\n",
      "8 X 5 = 40\n",
      "8 X 6 = 48\n",
      "8 X 7 = 56\n",
      "8 X 8 = 64\n",
      "8 X 9 = 72\n"
     ]
    }
   ],
   "source": [
    "x=int(input(\"구구단을 구해보자\"))\n",
    "\n",
    "y=1\n",
    "while y<10:\n",
    "    z=x*y\n",
    "    print(x,\"X\",y,'=',z)\n",
    "    y+=1"
   ]
  },
  {
   "cell_type": "code",
   "execution_count": 45,
   "id": "88179b48",
   "metadata": {},
   "outputs": [
    {
     "name": "stdout",
     "output_type": "stream",
     "text": [
      "x= 1 -> sum= 1\n",
      "x= 2 -> sum= 3\n",
      "x= 3 -> sum= 6\n",
      "x= 4 -> sum= 10\n",
      "x= 5 -> sum= 15\n",
      "x= 6 -> sum= 21\n",
      "x= 7 -> sum= 28\n",
      "x= 8 -> sum= 36\n",
      "x= 9 -> sum= 45\n",
      "x= 10 -> sum= 55\n"
     ]
    }
   ],
   "source": [
    "#1~10 까지의총 합을 구해보자\n",
    "x=1 #초기식\n",
    "sum=0 #총 합을 누적해서 저장할 변수\n",
    "while x <= 10:   #조건식 > x 가 10보다 작거나 같은 동안 반복 수행\n",
    "    sum+=x\n",
    "    print(\"x=\",x,'-> sum=',sum)\n",
    "    x+=1   # 증감식 , 조건에 사용되는 값을 변경합니다"
   ]
  },
  {
   "cell_type": "code",
   "execution_count": 49,
   "id": "7e300c9a",
   "metadata": {},
   "outputs": [
    {
     "name": "stdout",
     "output_type": "stream",
     "text": [
      "x= 1\n",
      "x= 2\n",
      "x= 3\n",
      "x= 4\n",
      "x= 5\n",
      "x= 6\n",
      "x= 7\n",
      "x= 8\n",
      "x= 9\n",
      "x= 10\n"
     ]
    }
   ],
   "source": [
    "x=1\n",
    "while x<=10:\n",
    "    print(\"x=\",x)\n",
    "    x+=1"
   ]
  },
  {
   "cell_type": "code",
   "execution_count": 53,
   "id": "711787cd",
   "metadata": {},
   "outputs": [
    {
     "name": "stdout",
     "output_type": "stream",
     "text": [
      "8 x 1 = 8\n",
      "8 x 2 = 16\n",
      "8 x 3 = 24\n",
      "8 x 4 = 32\n",
      "8 x 5 = 40\n",
      "8 x 6 = 48\n",
      "8 x 7 = 56\n",
      "8 x 8 = 64\n",
      "8 x 9 = 72\n"
     ]
    }
   ],
   "source": [
    "f=int(input('구구단을 만들 숫자를 입력해주세요!'))\n",
    "\n",
    "y=1\n",
    "while y<10:\n",
    "    z=f*y\n",
    "    print(f,'x',y,'=',z)\n",
    "    y+=1"
   ]
  },
  {
   "cell_type": "code",
   "execution_count": 56,
   "id": "e43049e5",
   "metadata": {},
   "outputs": [
    {
     "name": "stdout",
     "output_type": "stream",
     "text": [
      "x= 1 ->sum = 1\n",
      "x= 2 ->sum = 3\n",
      "x= 3 ->sum = 6\n",
      "x= 4 ->sum = 10\n",
      "x= 5 ->sum = 15\n",
      "x= 6 ->sum = 21\n",
      "x= 7 ->sum = 28\n",
      "x= 8 ->sum = 36\n",
      "x= 9 ->sum = 45\n",
      "x= 10 ->sum = 55\n"
     ]
    }
   ],
   "source": [
    "#1부터 10까지의 총 합을 구해보자\n",
    "x=1 #초기식\n",
    "sum=0 #총합을 누적해서 저장할 변수\n",
    "while x<=10:\n",
    "    sum+=x\n",
    "    print('x=',x,'->sum =', sum)\n",
    "    x+=1\n",
    "\n"
   ]
  },
  {
   "cell_type": "code",
   "execution_count": 59,
   "id": "e4aee2ca",
   "metadata": {},
   "outputs": [
    {
     "name": "stdout",
     "output_type": "stream",
     "text": [
      "x= 1\n",
      "x= 2\n",
      "x= 3\n",
      "x= 4\n",
      "x= 5\n",
      "x= 6\n",
      "x= 7\n",
      "x= 8\n",
      "x= 9\n",
      "x= 10\n",
      "x의 최종값= 10\n"
     ]
    }
   ],
   "source": [
    "for x in range(1,11):\n",
    "    print('x=',x)\n",
    "\n",
    "\n",
    "print('x의 최종값=',x)"
   ]
  },
  {
   "cell_type": "code",
   "execution_count": 63,
   "id": "02625550",
   "metadata": {},
   "outputs": [
    {
     "name": "stdout",
     "output_type": "stream",
     "text": [
      "8 x 1 = 8\n",
      "8 x 2 = 16\n",
      "8 x 3 = 24\n",
      "8 x 4 = 32\n",
      "8 x 5 = 40\n",
      "8 x 6 = 48\n",
      "8 x 7 = 56\n",
      "8 x 8 = 64\n",
      "8 x 9 = 72\n"
     ]
    }
   ],
   "source": [
    "x=int(input('숫자를 입력하세요'))\n",
    "for y in range(1,10):\n",
    "    z=x*y\n",
    "    print(x,'x',y,'=',z)"
   ]
  },
  {
   "cell_type": "code",
   "execution_count": null,
   "id": "caaddafd",
   "metadata": {},
   "outputs": [
    {
     "name": "stdout",
     "output_type": "stream",
     "text": [
      "x= 1 ->sum 1\n",
      "x= 2 ->sum 3\n",
      "x= 3 ->sum 6\n",
      "x= 4 ->sum 10\n",
      "x= 5 ->sum 15\n",
      "x= 6 ->sum 21\n",
      "x= 7 ->sum 28\n",
      "x= 8 ->sum 36\n",
      "x= 9 ->sum 45\n",
      "x= 10 ->sum 55\n"
     ]
    }
   ],
   "source": [
    "sum=0\n",
    "\n",
    "for x in range(1,11):\n",
    "    sum+= x\n",
    "    print('x=',x,'->sum',sum)"
   ]
  },
  {
   "cell_type": "code",
   "execution_count": 69,
   "id": "6276204c",
   "metadata": {},
   "outputs": [
    {
     "name": "stdout",
     "output_type": "stream",
     "text": [
      "0\n",
      "10\n",
      "20\n",
      "30\n",
      "40\n"
     ]
    }
   ],
   "source": [
    "for a in range (0,50,10):\n",
    "    print(a)"
   ]
  },
  {
   "cell_type": "code",
   "execution_count": 71,
   "id": "1f349bad",
   "metadata": {},
   "outputs": [
    {
     "name": "stdout",
     "output_type": "stream",
     "text": [
      "10\n",
      "8\n",
      "6\n",
      "4\n",
      "2\n"
     ]
    }
   ],
   "source": [
    "for a in range(10,0,-2):\n",
    "    print(a)"
   ]
  },
  {
   "cell_type": "code",
   "execution_count": 73,
   "id": "348f3f95",
   "metadata": {},
   "outputs": [
    {
     "name": "stdout",
     "output_type": "stream",
     "text": [
      "x= 1 -> sum = 1\n",
      "x= 2 -> sum = 3\n",
      "x= 3 -> sum = 6\n",
      "x= 4 -> sum = 10\n",
      "x= 5 -> sum = 15\n",
      "x= 6 -> sum = 21\n",
      "x= 7 -> sum = 28\n",
      "x= 8 -> sum = 36\n",
      "x= 9 -> sum = 45\n",
      "x= 10 -> sum = 55\n"
     ]
    }
   ],
   "source": [
    "#1부터 10까지의 총 합을 구해보자\n",
    "x=1\n",
    "sum=0\n",
    "\n",
    "while x<=10:\n",
    "    sum+=x\n",
    "    print('x=',x,'-> sum =',sum)\n",
    "    x+=1\n"
   ]
  },
  {
   "cell_type": "code",
   "execution_count": 77,
   "id": "43b4c59f",
   "metadata": {},
   "outputs": [
    {
     "name": "stdout",
     "output_type": "stream",
     "text": [
      "x= 1\n",
      "x= 2\n",
      "x= 3\n",
      "x= 4\n",
      "x= 5\n",
      "x= 6\n",
      "x= 7\n",
      "x= 8\n",
      "x= 9\n",
      "x= 10\n",
      "x= 1\n",
      "x= 2\n",
      "x= 3\n",
      "x= 4\n",
      "x= 5\n",
      "x= 6\n",
      "x= 7\n",
      "x= 8\n",
      "x= 9\n",
      "x= 10\n"
     ]
    }
   ],
   "source": [
    "#for 문을 활용해서 1부터 10 까지 추출하기\n",
    "for x in range (1,11):\n",
    "    print('x=',x)\n",
    "\n",
    "\n",
    "\n",
    "#while 문을 활용해서 1부터 10까지 추출하기\n",
    "x=1\n",
    "while x <=10 :\n",
    "    print('x=',x)\n",
    "    x+=1     #증감식 까먹지 않고 꼭 써주기\n"
   ]
  },
  {
   "cell_type": "code",
   "execution_count": 84,
   "id": "911fe065",
   "metadata": {},
   "outputs": [
    {
     "name": "stdout",
     "output_type": "stream",
     "text": [
      "4 x 1 = 4\n",
      "4 x 2 = 8\n",
      "4 x 3 = 12\n",
      "4 x 4 = 16\n",
      "4 x 5 = 20\n",
      "4 x 6 = 24\n",
      "4 x 7 = 28\n",
      "4 x 8 = 32\n",
      "4 x 9 = 36\n",
      "========\n",
      "4 x 2 = 4\n",
      "4 x 3 = 8\n",
      "4 x 4 = 12\n",
      "4 x 5 = 16\n",
      "4 x 6 = 20\n",
      "4 x 7 = 24\n",
      "4 x 8 = 28\n",
      "4 x 9 = 32\n",
      "4 x 10 = 36\n",
      "4 x 11 = 40\n"
     ]
    }
   ],
   "source": [
    "#for 문을 활용해서 구구단 출력하기\n",
    "\n",
    "y=int(input(\"구구단에 쓸 숫자를 입력해주세요!\"))\n",
    "for f in range (1,10):\n",
    "    z=y*f\n",
    "    print(y,\"x\",f,'=',z)\n",
    "\n",
    "\n",
    "print(\"========\")\n",
    "#while 문을 이용해서 구구단 출력하기\n",
    "\n",
    "u=1\n",
    "while u <=10:\n",
    "    z=y*u\n",
    "    u+=1\n",
    "    print(y,'x',u,'=',z)\n",
    "\n",
    "\n"
   ]
  },
  {
   "cell_type": "code",
   "execution_count": 86,
   "id": "3e3dfb98",
   "metadata": {},
   "outputs": [
    {
     "name": "stdout",
     "output_type": "stream",
     "text": [
      "x= 1 -> sum 1\n",
      "x= 2 -> sum 3\n",
      "x= 3 -> sum 6\n",
      "x= 4 -> sum 10\n",
      "x= 5 -> sum 15\n",
      "x= 6 -> sum 21\n",
      "x= 7 -> sum 28\n",
      "x= 8 -> sum 36\n",
      "x= 9 -> sum 45\n",
      "x= 10 -> sum 55\n"
     ]
    }
   ],
   "source": [
    "sum=0\n",
    "for x in range(1,11):\n",
    "    sum+=x\n",
    "    print('x=',x,'-> sum',sum)"
   ]
  },
  {
   "cell_type": "code",
   "execution_count": 89,
   "id": "590e2777",
   "metadata": {},
   "outputs": [],
   "source": [
    "def solution(angle):\n",
    "    if angle < 90 :\n",
    "        print(\"예각\")\n",
    "    elif angle ==90:\n",
    "        print(\"직각\")\n",
    "    elif angle < 180:\n",
    "        print(\"둔각\")\n",
    "    elif angle ==180:\n",
    "        print(\"평각\")      \n",
    "    return answer"
   ]
  },
  {
   "cell_type": "code",
   "execution_count": 96,
   "id": "9d9c23d0",
   "metadata": {},
   "outputs": [
    {
     "name": "stdout",
     "output_type": "stream",
     "text": [
      "2\n",
      "90\n",
      "1\n",
      "60\n",
      "4\n",
      "180\n"
     ]
    }
   ],
   "source": [
    "def solution(angle):\n",
    "    if  angle > 0 and angle < 90  :\n",
    "         print(1)\n",
    "    elif angle == 90:\n",
    "        print(2)\n",
    "    elif angle > 90 and angle < 180:\n",
    "        print(3)\n",
    "    elif angle ==180:     \n",
    "        print(4)      \n",
    "    return angle\n",
    "\n",
    "\n",
    "print(solution(90))\n",
    "print(solution(60))\n",
    "print(solution(180))"
   ]
  },
  {
   "cell_type": "code",
   "execution_count": 98,
   "id": "08baf214",
   "metadata": {},
   "outputs": [
    {
     "ename": "SyntaxError",
     "evalue": "expected ':' (744005510.py, line 4)",
     "output_type": "error",
     "traceback": [
      "  \u001b[36mCell\u001b[39m\u001b[36m \u001b[39m\u001b[32mIn[98]\u001b[39m\u001b[32m, line 4\u001b[39m\n\u001b[31m    \u001b[39m\u001b[31melse -1\u001b[39m\n         ^\n\u001b[31mSyntaxError\u001b[39m\u001b[31m:\u001b[39m expected ':'\n"
     ]
    }
   ],
   "source": [
    "def solution(num1,num2):\n",
    "    if num1 == num2:\n",
    "        return 1\n",
    "    else -1"
   ]
  },
  {
   "cell_type": "code",
   "execution_count": 99,
   "id": "7befe5fd",
   "metadata": {},
   "outputs": [],
   "source": [
    "def solution(price):\n",
    "    if price >= 500000:\n",
    "        return int(price*0.8)\n",
    "    elif price >= 300000:\n",
    "        return int(price*0.9)\n",
    "    elif price >= 100000:\n",
    "        return int(price*0.95)"
   ]
  },
  {
   "cell_type": "code",
   "execution_count": null,
   "id": "4e3c2f2f",
   "metadata": {},
   "outputs": [
    {
     "data": {
      "text/plain": [
       "30"
      ]
     },
     "execution_count": 102,
     "metadata": {},
     "output_type": "execute_result"
    }
   ],
   "source": [
    "import math\n",
    "\n",
    "n=10\n",
    "math.lcm(n,6)"
   ]
  },
  {
   "cell_type": "code",
   "execution_count": null,
   "id": "105a2790",
   "metadata": {},
   "outputs": [],
   "source": [
    "#리스트에 있는 평균값과 총합 값을 구해보자\n",
    "\n",
    "a=[[80,20,64,74],[26,37,45,89]]\n",
    "\n",
    "for score in a:\n",
    "  print(score[1])"
   ]
  }
 ],
 "metadata": {
  "kernelspec": {
   "display_name": "Python 3",
   "language": "python",
   "name": "python3"
  },
  "language_info": {
   "codemirror_mode": {
    "name": "ipython",
    "version": 3
   },
   "file_extension": ".py",
   "mimetype": "text/x-python",
   "name": "python",
   "nbconvert_exporter": "python",
   "pygments_lexer": "ipython3",
   "version": "3.13.9"
  }
 },
 "nbformat": 4,
 "nbformat_minor": 5
}
