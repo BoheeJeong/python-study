{
 "cells": [
  {
   "cell_type": "code",
   "execution_count": null,
   "id": "2163ae06",
   "metadata": {},
   "outputs": [],
   "source": [
    "   #리스트에 있 는 평균값과 총합 값을g 구해보자\n",
    "\n",
    "#\n",
    "a=[[80,20,64,74],[26,37,45,89]]\n",
    "\n",
    "size=len(a)\n",
    "print('a의 크기',size)\n",
    "\n",
    "for i in range (0,size):\n",
    "\n",
    "  print(i,'번째 리스트는',a[i],'사이즈는',len(a[i]))\n",
    "  list_size=len(a[i])\n",
    "  sum = 0\n",
    "\n",
    "  for j in range (0,list_size):\n",
    "\n",
    "    sum+=a[i][j]\n",
    "    print(sum)\n",
    "\n",
    "  avg=sum/list_size\n",
    "  \n",
    "  print('평균은' ,avg,'총합은',sum)\n",
    "\n",
    "\n",
    "\n"
   ]
  },
  {
   "cell_type": "code",
   "execution_count": null,
   "id": "9cd44cc2",
   "metadata": {},
   "outputs": [],
   "source": [
    "# 이번에는 파이썬 형식으로\n",
    "a=[[80,20,64,74],[26,37,45,89]]\n",
    "\n",
    "for row in a:\n",
    "  print(row)\n",
    "  \n",
    "  sum=0\n",
    "  for col in row:\n",
    "    sum+=col\n",
    "    print(sum)\n",
    "\n",
    "\n",
    "  avg=sum/len(row)\n",
    "  print('총')"
   ]
  },
  {
   "cell_type": "code",
   "execution_count": null,
   "id": "10b1cc08",
   "metadata": {},
   "outputs": [],
   "source": [
    "#각 원소들의 순서와 원소 걊을 추출해보자\n",
    "\n",
    "seasons =['봄','여름','가을','겨울']\n",
    "\n",
    "size=len(seasons)\n",
    "\n",
    "for i in range (0,size):\n",
    "  print(i,'번쨰 원소',seasons[i])\n"
   ]
  },
  {
   "cell_type": "code",
   "execution_count": null,
   "id": "f5ae3806",
   "metadata": {},
   "outputs": [],
   "source": [
    "#리스트로부터 내부의 원소를 직접 하나씩 꺼내보자\n",
    "msg=['Python','is','good']\n",
    "for i in msg:\n",
    "  print(i)"
   ]
  },
  {
   "cell_type": "code",
   "execution_count": null,
   "id": "636fd02f",
   "metadata": {},
   "outputs": [],
   "source": [
    "#리스트 안에 있는 원소들의 평균 값과 총합계 구하기\n",
    "score =[100,56,84,34,85]\n",
    "\n",
    "size = len(score)\n",
    "\n",
    "sum=0\n",
    "for i in range(0,len(score)):\n",
    "  sum+=score[i]\n",
    "print('총합은',sum,'평균은',sum//len(score))\n"
   ]
  },
  {
   "cell_type": "code",
   "execution_count": null,
   "id": "eaa1160b",
   "metadata": {},
   "outputs": [],
   "source": [
    "#리스트의 인덱스 번호와 원소를 동시에 탐색해보자\n",
    "score =[36,85,37,35]\n",
    "\n",
    "for i,v in enumerate(score):\n",
    "  print(i,'번쨰 원소는',v)"
   ]
  },
  {
   "cell_type": "code",
   "execution_count": null,
   "id": "7ca891de",
   "metadata": {},
   "outputs": [],
   "source": [
    "\n",
    "\n",
    "height =[160,170,157,170,180]\n",
    "size=len(height)\n",
    "\n",
    "for i in range (0,len(height)):\n",
    "  print(i,'번쨰 원소는',height[i])\n",
    "\n"
   ]
  },
  {
   "cell_type": "code",
   "execution_count": null,
   "id": "0ea61b36",
   "metadata": {},
   "outputs": [],
   "source": [
    "#리스트 안의 총 합과 평균을 구해보자\n",
    "#리스트에 직접 접근하는 방법\n",
    "\n",
    "\n",
    "height =[160,170,157,170,180]\n",
    "sum=0\n",
    "for i in height:\n",
    "  sum+=i\n",
    "\n",
    "print('키의 총 합은',sum,'평균 키는',sum/len(height))\n",
    "\n"
   ]
  },
  {
   "cell_type": "code",
   "execution_count": null,
   "id": "a2a185a8",
   "metadata": {},
   "outputs": [],
   "source": [
    "#몇 번쨰 순서인지 까지가 중요하다면?\n",
    "\n",
    "\n",
    "height =[160,170,157,170,180]\n",
    "sum=0\n",
    "for i in range(0,len(height)):\n",
    "  \n",
    "  sum+=height[i]\n",
    "print('키의 총 합은',sum,'평균 키는',sum/len(height))\n",
    "\n",
    "\n"
   ]
  },
  {
   "cell_type": "code",
   "execution_count": null,
   "id": "6a4729a2",
   "metadata": {},
   "outputs": [],
   "source": [
    "#각 리스트의 원소 별 합계와 평균 값을 구해보자\n",
    "\n",
    "mydata=[[88,72,83,90],[63,77,72,80]]\n",
    "\n",
    "#우선 mydata 라는 2차원 리스트가 몇 개의 리스트를 가지고 있는지 알아보자\n",
    "size=len(mydata)\n",
    "print('2차원 리스트가 가진 총 리스트 수는:',size)\n",
    "\n",
    "#2차원 리스트가 가진 길이 만큼 반복문을 실행\n",
    "for row in range(0,size):\n",
    "  print(row,'번째 리스트',mydata[row])\n",
    "  size2=len(mydata[row])\n",
    "  \n",
    "#2차원 리스트의 각 리스트가 가지고 있는 원소 갯수만큼 누적 합을 더해주는 반복문 실행\n",
    "  sum=0\n",
    "  for col in range(0,size2):\n",
    "    sum+=mydata[row][col]\n",
    "\n",
    "  print('총합은',sum,'평균은',sum//size2)"
   ]
  },
  {
   "cell_type": "code",
   "execution_count": null,
   "id": "ac341fd3",
   "metadata": {},
   "outputs": [],
   "source": [
    "#각 리스트의 원소 별 합계와 평균 값을 구해보자\n",
    "#range 없이 적어보자\n",
    "\n",
    "mydata=[[88,72,83,90],[63,77,72,80]]\n",
    "\n",
    "\n",
    "#for 문에서 리스트 내 리스트를 직접 탐색하면 row 자체가 그 값이 된다\n",
    "for row in mydata:\n",
    "  print(row)\n",
    "\n",
    "  sum=0\n",
    "#2차원 리스트 내에 있는 원소를 직접 탐색한다\n",
    "  for col in row:\n",
    "    sum+=col\n",
    "   \n",
    "\n",
    "  print('총합은',sum,'평균은',sum//len(row))\n",
    "\n"
   ]
  },
  {
   "cell_type": "code",
   "execution_count": null,
   "id": "7307736d",
   "metadata": {},
   "outputs": [],
   "source": [
    "score = [[87,90,75,37],[96,74,85,79]]\n",
    "\n",
    "size=len(score)\n",
    "print('score의 전체 길이는', size)\n",
    "\n",
    "for i in range (0,size):\n",
    "  print(i,'번쨰에 있는 리스트는',score[i])\n",
    "\n",
    "  sum=0\n",
    "  for j in range(0,len(score[i])):\n",
    "   \n",
    "    sum+=score[i][j]\n",
    "  print('총 합은',sum,'평균은',sum//len(score[i]))"
   ]
  },
  {
   "cell_type": "code",
   "execution_count": null,
   "id": "9be1ec35",
   "metadata": {},
   "outputs": [],
   "source": [
    "score = [[87,90,75,37],[96,74,85,79]]\n",
    "\n",
    "for i in score:\n",
    "  print('score이 가지고 있는 리스트',i)\n",
    "\n",
    "  sum=0\n",
    "  for j in i:\n",
    "    sum+=j\n",
    "  print('총합은',sum,'평균은',sum//len(i))\n",
    "\n"
   ]
  },
  {
   "cell_type": "code",
   "execution_count": null,
   "id": "bbeca138",
   "metadata": {},
   "outputs": [],
   "source": [
    "numbers=[1,2,3,4,5]\n",
    "num1=1\n",
    "num2=3\n",
    "\n",
    "answer=numbers[num1:num2+1]\n",
    "print(answer)"
   ]
  },
  {
   "cell_type": "code",
   "execution_count": null,
   "id": "a0bae6af",
   "metadata": {},
   "outputs": [],
   "source": [
    "#len() 함수는 리스트가 가지고 있는 원소의 갯수를 길이로 출력한다\n",
    "mylist=[1,2,3]\n",
    "print(len(mylist))\n",
    "\n"
   ]
  },
  {
   "cell_type": "code",
   "execution_count": null,
   "id": "70176c01",
   "metadata": {},
   "outputs": [],
   "source": [
    "#del() 함수는 리스트에서 인덱스로 지정한 항목을 지운다\n",
    "mylist=[1,2,3]\n",
    "del(mylist[1])\n",
    "print(mylist)"
   ]
  },
  {
   "cell_type": "code",
   "execution_count": null,
   "id": "e2ee6a14",
   "metadata": {},
   "outputs": [],
   "source": [
    "#sorted() 함수는 리스트를 정렬하는 함수인데, 원본은 수정하지 않는 특징이 있다\n",
    "mylist=[4,2,6,5,8]\n",
    "asc=sorted(mylist)\n",
    "print(asc)\n",
    "\n",
    "desc=sorted(mylist,reverse=True)\n",
    "print(desc)\n",
    "\n",
    "print(mylist)"
   ]
  },
  {
   "cell_type": "code",
   "execution_count": null,
   "id": "1ab3cae9",
   "metadata": {},
   "outputs": [],
   "source": [
    "#파이썬에서 최대/최소값을 구하는 함수는 사용할 수 있지만 평균 값은 총합을 길이(갯수)로 나눠야한다\n",
    "a=[1,2,3]\n",
    "\n",
    "print(max(a))\n",
    "print(min(a))\n"
   ]
  },
  {
   "cell_type": "code",
   "execution_count": null,
   "id": "c797f9d0",
   "metadata": {},
   "outputs": [],
   "source": [
    "#list() 함수는 요소 내의 문자들을 하나씩 쪼개어 리스트로 만들 수 있다\n",
    "a='Python'\n",
    "b=list(a)\n",
    "\n",
    "print(b)"
   ]
  },
  {
   "cell_type": "code",
   "execution_count": null,
   "id": "daa696ea",
   "metadata": {},
   "outputs": [],
   "source": [
    "#lsit() 함수는 튜플을 리스트로 만들어줄 수 있다\n",
    "c=(1,2,3)\n",
    "d=list(c)\n",
    "print(d)"
   ]
  },
  {
   "cell_type": "code",
   "execution_count": null,
   "id": "b1d75557",
   "metadata": {},
   "outputs": [],
   "source": [
    "#range () 함수는 1씩 늘어난다\n",
    "k=range(1,10)\n",
    "print(type(k))\n",
    "print(k)"
   ]
  },
  {
   "cell_type": "code",
   "execution_count": null,
   "id": "34be776b",
   "metadata": {},
   "outputs": [],
   "source": [
    "#range() 함수는 늘어나는 범위도 지정해줄 수 있다\n",
    "k=list(range(1,10,3))\n",
    "print(k)"
   ]
  },
  {
   "cell_type": "code",
   "execution_count": null,
   "id": "21b69e22",
   "metadata": {},
   "outputs": [],
   "source": [
    "#count() 함수로 지정한 숫자의 갯수를 세어줄 수 있다\n",
    "mylist=[1,2,3,2,4,2]\n",
    "c=mylist.count(2)\n",
    "print(c)"
   ]
  },
  {
   "cell_type": "code",
   "execution_count": null,
   "id": "552c01b2",
   "metadata": {},
   "outputs": [],
   "source": [
    "#index() 함수로 지정한 항목이 가장 처음 나타나는 인덱스 숫자 번호를 알 수 있다\n",
    "mylist=[1,2,3,10,1,2,3,10]\n",
    "x=mylist.index(10)\n",
    "print(x)"
   ]
  },
  {
   "cell_type": "code",
   "execution_count": null,
   "id": "b756a499",
   "metadata": {},
   "outputs": [],
   "source": [
    "#append() 함수는 뒤에서 이어 붙이는 결과를 출력한다\n",
    "mylist=[1,2,3]\n",
    "mylist.append(4)\n",
    "print(mylist)"
   ]
  },
  {
   "cell_type": "code",
   "execution_count": null,
   "id": "7c4426d3",
   "metadata": {},
   "outputs": [],
   "source": [
    "#append() 함수는 리스트도 더해줄 수 있다\n",
    "mylist=[1,2,3]\n",
    "mylist.append([5,6])\n",
    "print(mylist)"
   ]
  },
  {
   "cell_type": "code",
   "execution_count": null,
   "id": "f267267f",
   "metadata": {},
   "outputs": [],
   "source": [
    "#insert 함수는 지정한 index 에 특정 값을 삽입해줄 수 있다\n",
    "mylist=[1,2,3]\n",
    "mylist.insert(1,10)\n",
    "print(mylist)"
   ]
  },
  {
   "cell_type": "code",
   "execution_count": null,
   "id": "6cd4ede1",
   "metadata": {},
   "outputs": [],
   "source": [
    "#insert 함수는 지정한 index 에 특정 값을 삽입해줄 수 있다#\n",
    "mylist=[1,2,3]\n",
    "mylist.insert(0,10)\n",
    "print(mylist)"
   ]
  },
  {
   "cell_type": "code",
   "execution_count": null,
   "id": "12414249",
   "metadata": {},
   "outputs": [],
   "source": [
    "#pop()함수는 가장 마지막 원소를 꺼내서 리턴해주고, 원본에서 그 값은 제거한다\n",
    "mylist=[1,2,3]\n",
    "k=mylist.pop()\n",
    "print(k)\n",
    "print(mylist)"
   ]
  },
  {
   "cell_type": "code",
   "execution_count": null,
   "id": "2649950e",
   "metadata": {},
   "outputs": [],
   "source": [
    "# sort() 는 리스트를 정렬하는 함수로, 원본 자체를 수정한다\n",
    "mylist=[2,5,1,4,3]\n",
    "mylist.sort()\n",
    "print(mylist)"
   ]
  },
  {
   "cell_type": "code",
   "execution_count": null,
   "id": "d81b98fe",
   "metadata": {},
   "outputs": [],
   "source": [
    "# reverse () 는 리스트를 역으로 정렬하는 함수로, 원본 자체를 수정한다\n",
    "mylist=[2,5,1,4,3]\n",
    "mylist.sort(reverse=True)\n",
    "print(mylist)"
   ]
  },
  {
   "cell_type": "code",
   "execution_count": null,
   "id": "368f21e5",
   "metadata": {},
   "outputs": [],
   "source": [
    "#split 을 활용하면 특정 기호를 기준으로 변수를 리스트로 만들어 구분할 수 있다\n",
    "text=\"안녕,내,중국,이름은,뿌시야\"\n",
    "mylist=text.split(\",\")\n",
    "print(mylist)"
   ]
  },
  {
   "cell_type": "code",
   "execution_count": null,
   "id": "8abb8b22",
   "metadata": {},
   "outputs": [],
   "source": [
    "#join() 을 활용하면 특정 문자열로 원소들을 이을 수 있다\n",
    "dl=\"&\"\n",
    "mylist=['안녕','내','중국','이름은','뿌시야']\n",
    "text=dl.join(mylist)\n",
    "print(text)"
   ]
  },
  {
   "cell_type": "code",
   "execution_count": null,
   "id": "b10faffa",
   "metadata": {},
   "outputs": [],
   "source": [
    "#join() 을 활용하면 특정 문자열로 원소들을 이을 수 있다 *빈칸\n",
    "dl=\"\"\n",
    "mylist=['안녕','내','중국','이름은','뿌시야']\n",
    "text=dl.join(mylist)\n",
    "print(text)"
   ]
  },
  {
   "cell_type": "code",
   "execution_count": null,
   "id": "ecb8b0b6",
   "metadata": {},
   "outputs": [],
   "source": [
    "#join() 을 활용하면 특정 문자열로 원소들을 이을 수 있다 *띄어쓰기\n",
    "dl=\" \"\n",
    "mylist=['안녕','내','중국','이름은','뿌시야']\n",
    "text=dl.join(mylist)\n",
    "print(text)"
   ]
  },
  {
   "cell_type": "code",
   "execution_count": null,
   "id": "4ce2ee49",
   "metadata": {},
   "outputs": [],
   "source": [
    "#divmod() 를 활용하면 숫자를 나눴을 때 몫과 나머지를 출력할 수 있다\n",
    "c=divmod(200,3)\n",
    "print(c)\n",
    "\n",
    "\n",
    "days,hours =divmod(100,3)\n",
    "tpl=\"{0}일 {1}시간\"\n",
    "print(tpl.format(days,hours))"
   ]
  },
  {
   "cell_type": "code",
   "execution_count": null,
   "id": "17930b82",
   "metadata": {},
   "outputs": [],
   "source": [
    "#extend() 는 append 처럼 뒤에서 이어 붙이는 효과가 있다\n",
    "mylist=[1,2,3]\n",
    "addon=[10,9,8,7]\n",
    "mylist.extend(addon)\n",
    "print(mylist)"
   ]
  },
  {
   "cell_type": "code",
   "execution_count": null,
   "id": "0b72554d",
   "metadata": {},
   "outputs": [],
   "source": [
    "#remove() 는 특정 원소를 삭제할 수 있다\n",
    "mylist=[1,2,3,10,1,2,3,10]\n",
    "mylist.remove(10)\n",
    "print(mylist)"
   ]
  },
  {
   "cell_type": "code",
   "execution_count": null,
   "id": "084f5ee2",
   "metadata": {},
   "outputs": [],
   "source": [
    "mylist=[1,7,5,3,9]\n",
    "mylist.reverse()\n",
    "print(mylist)"
   ]
  },
  {
   "cell_type": "code",
   "execution_count": null,
   "id": "fb877ad1",
   "metadata": {},
   "outputs": [],
   "source": [
    "message1=\"식곤증을 어찌 이겨낼수 있을까\"\n",
    "message2=\"그럴때는 바나바를 먹어야지!\"\n",
    "\n",
    "print(message1)\n",
    "print(message2)\n"
   ]
  },
  {
   "cell_type": "code",
   "execution_count": null,
   "id": "70087030",
   "metadata": {},
   "outputs": [],
   "source": [
    "msg1='식곤증'\n",
    "\n",
    "for i in msg1:\n",
    "  print(i)"
   ]
  },
  {
   "cell_type": "code",
   "execution_count": null,
   "id": "a0360560",
   "metadata": {},
   "outputs": [],
   "source": [
    "msg1='식곡증엔'\n",
    "msg2=\"바나바\" \n",
    "print(msg1+\" \"+msg2)\n",
    "\n",
    "\n",
    "msg3='1000'\n",
    "msg4=\"2222\" \n",
    "print(msg3+msg4)\n",
    "\n",
    "\n",
    "print(msg1*3+msg2*3)"
   ]
  },
  {
   "cell_type": "code",
   "execution_count": null,
   "id": "e3b6f70c",
   "metadata": {},
   "outputs": [],
   "source": [
    "case1='식곤증엔 \\'바나바\\' '\n",
    "print(case1)"
   ]
  },
  {
   "cell_type": "code",
   "execution_count": null,
   "id": "dddc805f",
   "metadata": {},
   "outputs": [],
   "source": [
    "case2='식곤증엔 \\t 바나바'\n",
    "print(case2)"
   ]
  },
  {
   "cell_type": "code",
   "execution_count": null,
   "id": "fa745051",
   "metadata": {},
   "outputs": [],
   "source": [
    "case3='식곤증엔 \\\\ 바나바'\n",
    "print(case3)"
   ]
  },
  {
   "cell_type": "code",
   "execution_count": null,
   "id": "6cc72412",
   "metadata": {},
   "outputs": [],
   "source": [
    "#곱셈을 표현해보자\n",
    "for i in range(2,10):\n",
    "  for j in range(1,10):\n",
    "    z=i*j\n",
    "    print(i,'x',j,'=',z)\n",
    "  \n",
    "  print('=======')\n"
   ]
  },
  {
   "cell_type": "code",
   "execution_count": null,
   "id": "f6d448b3",
   "metadata": {},
   "outputs": [],
   "source": [
    "#3과 5의 공배수를 표현해보자\n",
    "\n",
    "x=3\n",
    "y=5\n",
    "\n",
    "for i in range(1,101):\n",
    "  if i%x==0 and i%y==0:\n",
    "    print(i)"
   ]
  },
  {
   "cell_type": "code",
   "execution_count": null,
   "id": "fadefb16",
   "metadata": {},
   "outputs": [],
   "source": [
    "#짝수는 짝수끼리, 홀수는 홀수끼리 더해보자\n",
    "n=10\n",
    "\n",
    "x=0\n",
    "y=0\n",
    "for i in range(1,n+1):\n",
    "  if i%2==0:\n",
    "    x+=i\n",
    "    print('x의 값은' ,x)\n",
    "  else:\n",
    "    y+=i\n",
    "    print('y의값은',y)\n",
    "\n",
    "\n",
    "print('최종 값은', x , '그리고',y)\n",
    "\n",
    "\n"
   ]
  },
  {
   "cell_type": "code",
   "execution_count": null,
   "id": "9872b810",
   "metadata": {},
   "outputs": [],
   "source": [
    "#각 리스트에서의 합계와 평균값 첫번쨰 방식으로 구해보기\n",
    "#우선 각 리스트의 총 갯수를 구해서 그 만큼 반복해줘\n",
    "#무엇을> 각 리스트 안에 있는 요소들을 하나씩 더해주는 작업을\n",
    "\n",
    "a=[[50,60,70,80],[63,74,85,97]]\n",
    "size = len(a)\n",
    "\n",
    "for i in range(0,size):\n",
    "  print(i,'번째 리스트:',a[i])\n",
    "\n",
    "  total=0\n",
    "  for j in range(0,len(a[i])):\n",
    "\n",
    "    total +=a[i][j]\n",
    "\n",
    "\n",
    "  print('총 합은',total,'평균은',total//len(a[i]))"
   ]
  },
  {
   "cell_type": "code",
   "execution_count": null,
   "id": "acb7693f",
   "metadata": {},
   "outputs": [],
   "source": [
    "a=[[50,60,70,80],[63,74,85,97]]\n",
    "\n",
    "for i in a:\n",
    "  print(i)\n",
    "  total=0\n",
    "  for j in i:\n",
    "    \n",
    "    total+=j\n",
    "\n",
    "\n",
    "  print('총 합은',total,'평균은',total//len(i))\n",
    "  "
   ]
  },
  {
   "cell_type": "code",
   "execution_count": null,
   "id": "9c6f7b00",
   "metadata": {},
   "outputs": [],
   "source": [
    "#표현은 달라도 모두 같은 결과를 보여준다\n",
    "str =\"나는 %d세 입니다\"\n",
    "print(str%20)\n",
    "\n",
    "print(\"나는 %d세 입니다\" %20)\n",
    "\n",
    "age = 20\n",
    "print(f\"나는 {age}세 입니다\")\n"
   ]
  },
  {
   "cell_type": "code",
   "execution_count": null,
   "id": "5adb9000",
   "metadata": {},
   "outputs": [],
   "source": [
    "#여러개의 포매팅을 동시에 진행할 수 있다\n",
    "print(\"나는 %d 학년 %d반 홍찌입니다\" %(4,2))"
   ]
  },
  {
   "cell_type": "code",
   "execution_count": null,
   "id": "5ddb7a88",
   "metadata": {},
   "outputs": [],
   "source": [
    "# % 뒤의 값이 %d 를 치환한다\n",
    "#문자열에 대해서는 \"\" 가 필요하다\n",
    "str =\"나는 점심으로 %s 국밥을 먹었다. %d원 이었다\" %(\"콩나물\",7500)\n",
    "print(str)\n",
    "\n"
   ]
  },
  {
   "cell_type": "code",
   "execution_count": null,
   "id": "21f230b6",
   "metadata": {},
   "outputs": [],
   "source": [
    "\n",
    "#틀린 코드\n",
    "school_level =[\"초등학교\",\"중학교\",\"고등학교\"]\n",
    "graduation_year=[2014,2017,2020]\n",
    "for i in school_level:\n",
    "  for j in graduation_year:\n",
    "    sentence='나는 원천%s를 %d년도에 졸업했다' %(i,j)\n",
    "  print(sentence)"
   ]
  },
  {
   "cell_type": "code",
   "execution_count": null,
   "id": "2f41ede9",
   "metadata": {},
   "outputs": [],
   "source": [
    "\n",
    "#맞는 코드\n",
    "#zip 을 이용해서 리스트 데이터의 짝을 지어줄 수 있다\n",
    "school_level =[\"초등학교\",\"중학교\",\"고등학교\"]\n",
    "graduation_year=[2014,2017,2020]\n",
    "for school,year in zip(school_level,graduation_year):\n",
    "    sentence='나는 원천%s를 %d년도에 졸업했다' %(school,year)\n",
    "    print(sentence)"
   ]
  },
  {
   "cell_type": "code",
   "execution_count": null,
   "id": "10aa472d",
   "metadata": {},
   "outputs": [],
   "source": [
    "# % 뒤의 값이 %d 를 치환한다\n",
    "str =\"나는 점심으로 %s 국밥을 먹었다. [%10d]원 이었다\" %(\"콩나물\",7500)\n",
    "print(str)\n",
    "\n",
    "# % 뒤의 값이 %d 를 치환한다\n",
    "str =\"나는 점심으로 %s 국밥을 먹었다. [%010d]원 이었다\" %(\"콩나물\",7500)\n",
    "print(str)"
   ]
  },
  {
   "cell_type": "code",
   "execution_count": null,
   "id": "7c7a4008",
   "metadata": {},
   "outputs": [],
   "source": [
    "#소수점 셋째자리 까지 보여주기 떄문에 넷쨰 자리에서 올린다\n",
    "str1='내가 가장 좋아하는 소수는 [%0.3f]' %64.7427426   \n",
    "\n",
    "#소수점과 좌측의 빈공간을 포함해서 총 10개가 출력된다\n",
    "str2='내가 가장 좋아하는 소수는 [%10.3f]' %64.7427426\n",
    "\n",
    "#좌측의 빈 공간이 숫자 0으로 출력된다\n",
    "str3='내가 가장 좋아하는 소수는 [%010.3f]' %64.7427426\n",
    "print(str1)\n",
    "print(str2)\n",
    "print(str3)"
   ]
  },
  {
   "cell_type": "code",
   "execution_count": null,
   "id": "5b7d71c0",
   "metadata": {},
   "outputs": [],
   "source": [
    "#숫자 인덱스를 활용한 문자열 포매팅\n",
    "\n",
    "fmt=\"내가 좋아하는 소동물은 {0}과(와) {1}\"\n",
    "rst=fmt.format('고슴도치','햄스터')\n",
    "print(rst)\n",
    "\n",
    "treat=\"홍찌가 좋아하는 간식은 {0},{1}\"\n",
    "answer=treat.format(\"밀웜\",'해바라기씨')\n",
    "print(answer)"
   ]
  },
  {
   "cell_type": "code",
   "execution_count": null,
   "id": "5e6208c5",
   "metadata": {},
   "outputs": [],
   "source": [
    "#직접 변수를 지정해줄 수도 있따\n",
    "sentence1=\"지금 시각은 {hour}시 {minute} 분 입니다\"\n",
    "time = sentence1.format(hour=16,minute=24)\n",
    "print(time)"
   ]
  },
  {
   "cell_type": "code",
   "execution_count": null,
   "id": "81125056",
   "metadata": {},
   "outputs": [],
   "source": [
    "\n",
    "array = [149,180,192,170]\n",
    "height = 167\n",
    "\n",
    "count=0\n",
    "def solution(array, height):\n",
    "    for i in array:\n",
    "        print(i)\n",
    "        for j in range(1,len(array)+1):\n",
    "            if j>height :\n",
    "                print(height,'보다' , array[i] ,'가 더 큽니다')\n",
    "                count+=1\n",
    "            else :\n",
    "                print(height,'보다' , array[i] ,'가 더 작습니다')\n",
    "    return count\n",
    "\n",
    "solution(array,height)"
   ]
  },
  {
   "cell_type": "code",
   "execution_count": 6,
   "id": "ab16f2f9",
   "metadata": {},
   "outputs": [
    {
     "name": "stdout",
     "output_type": "stream",
     "text": [
      "12\n"
     ]
    }
   ],
   "source": [
    "#문자열의 len() 함수는 문자열의 길이를 출력하는데, 이때 띄어쓰기도 +1로 취급\n",
    "my_str = 'Hello Python'\n",
    "length=len(my_str)\n",
    "print(length)"
   ]
  },
  {
   "cell_type": "code",
   "execution_count": null,
   "id": "0314ed57",
   "metadata": {},
   "outputs": [],
   "source": []
  },
  {
   "cell_type": "code",
   "execution_count": null,
   "id": "bac4a10c",
   "metadata": {},
   "outputs": [],
   "source": []
  },
  {
   "cell_type": "code",
   "execution_count": null,
   "id": "d482a522",
   "metadata": {},
   "outputs": [],
   "source": []
  },
  {
   "cell_type": "code",
   "execution_count": 3,
   "id": "0b568538",
   "metadata": {},
   "outputs": [
    {
     "name": "stdout",
     "output_type": "stream",
     "text": [
      "<class 'str'>\n",
      "True\n"
     ]
    }
   ],
   "source": [
    "#내장함수 str() 파라미터로 전달된 변수를 문자열로 반환한다\n",
    "#실수, boolean, 정수 등 모든 것들을 문자열로 반환할 수 있음\n",
    "\n",
    "\n",
    "bool1=True\n",
    "bool1_s = str(bool1)\n",
    "print(type(bool1_s))\n",
    "print(bool1_s)"
   ]
  },
  {
   "cell_type": "code",
   "execution_count": 5,
   "id": "7fb4a462",
   "metadata": {},
   "outputs": [
    {
     "name": "stdout",
     "output_type": "stream",
     "text": [
      "<class 'str'>\n",
      "15.36312\n"
     ]
    }
   ],
   "source": [
    "#내장함수 str() 파라미터로 전달된 변수를 문자열로 반환한다\n",
    "#실수, boolean, 정수 등 모든 것들을 문자열로 반환할 수 있음\n",
    "\n",
    "test=15.36312\n",
    "test_s = str(test)\n",
    "print(type(test_s))\n",
    "print(test_s)"
   ]
  },
  {
   "cell_type": "code",
   "execution_count": 9,
   "id": "3d7d7f0f",
   "metadata": {},
   "outputs": [
    {
     "name": "stdout",
     "output_type": "stream",
     "text": [
      "2\n",
      "2\n",
      "1\n"
     ]
    }
   ],
   "source": [
    "#문자열 안에 포함된 특정 단어나 글자수 세기\n",
    "#count() 메서드\n",
    "\n",
    "message = '마지막까지 집중을 다해야만 합니다. 집중을하는 것은 어렵지만 보통 마지막에 가장 중요한 내용이 나오기 때문이죠'\n",
    "\n",
    "print(message.count(\"마\"))\n",
    "print(message.count('집중'))\n",
    "print(message.count('보통'))\n"
   ]
  },
  {
   "cell_type": "code",
   "execution_count": 14,
   "id": "50c2340b",
   "metadata": {},
   "outputs": [
    {
     "name": "stdout",
     "output_type": "stream",
     "text": [
      "23\n",
      "-1\n"
     ]
    }
   ],
   "source": [
    "#특정 글자나 단어가 처음 나타나는 위치를 조회할 때\n",
    "#find() 메서드는 찾으려는 단어의 시작 위치 지점을 알려주고, 없을 경우 -1\n",
    "\n",
    "test_message =\"우리집에는 드워프 햄스터가 있는데 이름은 홍찌입니다.홍찌는 태어난지 3개월 되었어요\"\n",
    "print(test_message.find(\"홍찌\"))\n",
    "print(test_message.find(\"힝찌\"))\n",
    "\n"
   ]
  },
  {
   "cell_type": "code",
   "execution_count": 16,
   "id": "e50862cb",
   "metadata": {},
   "outputs": [
    {
     "name": "stdout",
     "output_type": "stream",
     "text": [
      "29\n",
      "-1\n"
     ]
    }
   ],
   "source": [
    "#특정 글자나 단어가 마지막으로 나타나는 위치 조회\n",
    "#rfind() 메서드는 내가 찾고자 하는 단어의 마지막 위치 시작점을 알려줌\n",
    "test_message =\"우리집에는 드워프 햄스터가 있는데 이름은 홍찌입니다.홍찌는 태어난지 3개월 되었어요\"\n",
    "print(test_message.rfind(\"홍찌\"))\n",
    "print(test_message.rfind(\"힝찌\"))"
   ]
  },
  {
   "cell_type": "code",
   "execution_count": 19,
   "id": "6b3c53dd",
   "metadata": {},
   "outputs": [
    {
     "name": "stdout",
     "output_type": "stream",
     "text": [
      "True\n",
      "False\n",
      "False\n",
      "True\n"
     ]
    }
   ],
   "source": [
    "#대소문자 검사하는 매서드 \n",
    "#isupper 과 islower 이 있음\n",
    "\n",
    "test3='HELLO'\n",
    "print(test3.isupper())\n",
    "\n",
    "\n",
    "test4='hello'\n",
    "print(test4.isupper())\n",
    "\n",
    "\n",
    "test5='HELLO'\n",
    "print(test5.islower())\n",
    "\n",
    "\n",
    "test6='hello'\n",
    "print(test6.islower())"
   ]
  },
  {
   "cell_type": "code",
   "execution_count": 22,
   "id": "017f4f08",
   "metadata": {},
   "outputs": [
    {
     "name": "stdout",
     "output_type": "stream",
     "text": [
      "hello\n",
      "HELLO\n"
     ]
    }
   ],
   "source": [
    "#upper 과 lower 매서드로 대소문자를 바꿔줄 수 있음  \n",
    "test3='HELLO'\n",
    "print(test3.lower())\n",
    "\n",
    "\n",
    "test4='hello'\n",
    "print(test4.upper())\n"
   ]
  },
  {
   "cell_type": "code",
   "execution_count": 25,
   "id": "c1045e4c",
   "metadata": {},
   "outputs": [
    {
     "name": "stdout",
     "output_type": "stream",
     "text": [
      "MY NAME IS buxi\n",
      "My name is buxi\n",
      "My Name Is Buxi\n"
     ]
    }
   ],
   "source": [
    "#swapcase() 대문자는 소문자로, 소문자는 대문자로 변환\n",
    "test10 = 'my name is BUXI'\n",
    "\n",
    "print(test10.swapcase())\n",
    "\n",
    "#capitalize()문장의 첫 글자를 대문자로 바꾸고 나머지는 다 소문자로 변환\n",
    "\n",
    "print(test10.capitalize())\n",
    "\n",
    "\n",
    "#title()각 단어의 첫 글자를 대문자로 변환\n",
    "print(test10.title())"
   ]
  },
  {
   "cell_type": "code",
   "execution_count": 32,
   "id": "48532742",
   "metadata": {},
   "outputs": [
    {
     "name": "stdout",
     "output_type": "stream",
     "text": [
      "       lalala       \n",
      "[ lalala ]\n",
      "[ lalala        ]\n",
      "[        lalala ]\n"
     ]
    }
   ],
   "source": [
    "#문자열 공백 지우기\n",
    "test20 =\"       lalala       \"\n",
    "print(test20)\n",
    "#strip () 앞뒤 공백 제거\n",
    "\n",
    "print(\"[\",test20.strip(),\"]\")\n",
    "\n",
    "#lstrip() 좌측 공백 제거\n",
    "print(\"[\",test20.lstrip(),\"]\")\n",
    "\n",
    "#rstrip() 우측 공백 제거\n",
    "print(\"[\",test20.rstrip(),\"]\")"
   ]
  },
  {
   "cell_type": "code",
   "execution_count": 37,
   "id": "179e02aa",
   "metadata": {},
   "outputs": [
    {
     "name": "stdout",
     "output_type": "stream",
     "text": [
      "fried chicken\n",
      "grilled chicken\n"
     ]
    }
   ],
   "source": [
    "#문자열을 바꿔주는 repalce()\n",
    "menu = \"fried chicken\"\n",
    "print(menu)\n",
    "\n",
    "new_menu = menu.replace(\"fried\",\"grilled\")\n",
    "print(new_menu)"
   ]
  },
  {
   "cell_type": "code",
   "execution_count": 39,
   "id": "2ce3d5ec",
   "metadata": {},
   "outputs": [
    {
     "name": "stdout",
     "output_type": "stream",
     "text": [
      "['fried', 'chicken', 'and', 'grilled', 'chicken']\n"
     ]
    }
   ],
   "source": [
    "#문자열을 잘라주는 split()\n",
    "menu = \"fried chicken and grilled chicken\"\n",
    "sliced_menu=menu.split()\n",
    "print(sliced_menu)"
   ]
  },
  {
   "cell_type": "code",
   "execution_count": 42,
   "id": "11ecb428",
   "metadata": {},
   "outputs": [
    {
     "name": "stdout",
     "output_type": "stream",
     "text": [
      "True\n"
     ]
    }
   ],
   "source": [
    "#숫자로만 구성된 문자열인지 검사하는 매서드 isnumeric()\n",
    "#숫자로만 구성되어 있으면 True, 아니면 False 를 반환한다\n",
    "\n",
    "test30=\"12345\"   #문자형으로 이루어져 있어야함\n",
    "print(test30.isnumeric())\n",
    "\n"
   ]
  },
  {
   "cell_type": "code",
   "execution_count": 67,
   "id": "cca84135",
   "metadata": {},
   "outputs": [
    {
     "data": {
      "text/plain": [
       "3"
      ]
     },
     "execution_count": 67,
     "metadata": {},
     "output_type": "execute_result"
    }
   ],
   "source": [
    "\n",
    "array = [149,180,192,170]\n",
    "height = 167\n",
    "\n",
    "\n",
    "def solution(array, height):\n",
    "    count=0\n",
    "    for i in array:\n",
    "          if i > height:\n",
    "           count+=1\n",
    "       \n",
    "    return count\n",
    "\n",
    "solution(array,height)\n"
   ]
  },
  {
   "cell_type": "code",
   "execution_count": 90,
   "id": "423f93d9",
   "metadata": {},
   "outputs": [
    {
     "name": "stdout",
     "output_type": "stream",
     "text": [
      "2\n"
     ]
    }
   ],
   "source": [
    "s1 =['a','b','c']\n",
    "s2=['com','b','d','p','c']\n",
    "\n",
    "count=0\n",
    "for sl1 in s1:\n",
    "   \n",
    "    if sl1 in s2:\n",
    "      count+=1\n",
    "\n",
    "print(count)\n"
   ]
  },
  {
   "cell_type": "code",
   "execution_count": null,
   "id": "d76ddfbb",
   "metadata": {},
   "outputs": [],
   "source": []
  },
  {
   "cell_type": "code",
   "execution_count": null,
   "id": "9c2936a5",
   "metadata": {},
   "outputs": [
    {
     "name": "stdout",
     "output_type": "stream",
     "text": [
      "a\n",
      "b\n",
      "c\n",
      "com\n",
      "b\n",
      "d\n",
      "p\n",
      "c\n",
      "1\n"
     ]
    }
   ],
   "source": [
    "s1 =['a','b','c']\n",
    "s2=['com','b','d','p','c']\n",
    "\n",
    "\n",
    "for sl1 in s1:\n",
    "    print(sl1)\n",
    "\n",
    "\n",
    "for sl2 in s2:\n",
    "    print(sl2)\n",
    "\n",
    "    count=0\n",
    "\n",
    "    if sl1==sl2:\n",
    "        count+=1\n",
    "\n",
    "print(count)\n",
    "\n"
   ]
  }
 ],
 "metadata": {
  "kernelspec": {
   "display_name": "Python 3",
   "language": "python",
   "name": "python3"
  },
  "language_info": {
   "codemirror_mode": {
    "name": "ipython",
    "version": 3
   },
   "file_extension": ".py",
   "mimetype": "text/x-python",
   "name": "python",
   "nbconvert_exporter": "python",
   "pygments_lexer": "ipython3",
   "version": "3.13.9"
  }
 },
 "nbformat": 4,
 "nbformat_minor": 5
}
