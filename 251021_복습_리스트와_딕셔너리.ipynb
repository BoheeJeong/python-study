{
 "cells": [
  {
   "cell_type": "code",
   "execution_count": null,
   "id": "a84feaff",
   "metadata": {},
   "outputs": [
    {
     "name": "stdout",
     "output_type": "stream",
     "text": [
      "[{'item_name': '티셔츠', 'item_price': 5000, 'item_size': 'm', 'item_color': 'red'}, {'item_name': '바지', 'item_price': 15000, 'item_size': 'm', 'item_color': 'black'}, {'item_name': '맨투맨', 'item_price': 25000, 'item_size': 'm', 'item_color': 'blue'}, {'item_name': '후드티', 'item_price': 35000, 'item_size': 'm', 'item_color': 'green'}]\n"
     ]
    }
   ],
   "source": [
    "#리스트 안에 있는 딕셔너리 형태의 데이터를 csv 로 저장해보자\n",
    "\n",
    "a = [\n",
    "    {\"item_name\":\"티셔츠\",\"item_price\":5000,\"item_size\":\"m\",\"item_color\":\"red\"},\n",
    "    {\"item_name\":\"바지\",\"item_price\":15000,\"item_size\":\"m\",\"item_color\":\"black\"},\n",
    "    {\"item_name\":\"맨투맨\",\"item_price\":25000,\"item_size\":\"m\",\"item_color\":\"blue\"},\n",
    "    {\"item_name\":\"후드티\",\"item_price\":35000,\"item_size\":\"m\",\"item_color\":\"green\"}        \n",
    "]\n",
    "\n",
    "\n",
    "# #cvs 파일로 만들기 위해서 해야할 일\n",
    "# 1) 파일 형식을 생성한다\n",
    "# 2) 파일을 생성한다\n",
    "# 3) 제목을 삽입한다\n",
    "# 4) 리스트 안의 딕셔너리의 value 에 접근해서 한 줄씩 만들어준다\n",
    "\n",
    "formatting= \"{0},{1},{2},{3}\\n\"\n",
    "\n",
    "print(a)\n",
    "with open(\"./item_products.txt\",\"w\",encoding=\"euc-kr\") as f:\n",
    "\n",
    "  f.write(\"item_name,item_price,item_size,item_color\\n\")\n",
    "\n",
    "  for i in a:\n",
    "    final_file=formatting.format(i[\"item_name\"],i[\"item_price\"],i[\"item_size\"],i[\"item_color\"])\n",
    "    f.write(final_file)"
   ]
  },
  {
   "cell_type": "code",
   "execution_count": 14,
   "id": "1f066365",
   "metadata": {},
   "outputs": [],
   "source": [
    "#딕셔너리 안에 있는 리스트 형식을 txt 파일로 생성해보자\n",
    "\n",
    "b={\n",
    "    \"item_name\" : [\"티셔츠\",\"바지\",\"맨투맨\",\"후드티\"],\n",
    "    \"item_price\" :[5000,15000,25000,25000,35000],\n",
    "    \"item_size\":[\"m\",\"m\",\"m\",\"m\"],\n",
    "    \"item_color\":[\"red\",\"black\",\"blue\",\"green\"]\n",
    "\n",
    "}\n",
    "# 1) 파일 형식을 생성한다\n",
    "# 2) 저장할 파일을 생성한다\n",
    "# 3) 파일의 제목을 생성한다\n",
    "#     -이떄, 제목은 리스트의 key 값들을 기반으로 만들 수 있다\n",
    "#     -keys 함수로 이어진 값들은 join 매서드로 ',' 로 이어주고, 끝에는 엔터를 붙여준다\n",
    "# 4) 딕셔너리 안에 있는 리스트 원소들에 접근하여 반복문으로 값을 넣어준다 \n",
    "\n",
    "\n",
    "formatting2=\"{0},{1},{2},{3}\\n\"\n",
    "\n",
    "with open(\"item_products_list_in_dict.txt\",\"w\",encoding=\"euc-kr\") as f:\n",
    "\n",
    "  key_list = b.keys()\n",
    "  comma=\",\"\n",
    "  title=comma.join(key_list)+'\\n'\n",
    "  \n",
    "  f.write(title)\n",
    "\n",
    "\n",
    "  for i in range(0,len(b[\"item_name\"])):\n",
    "    final_data=formatting2.format(b[\"item_name\"][i],b[\"item_price\"][i],b[\"item_size\"][i],b[\"item_color\"][i])\n",
    "    f.write(final_data)\n",
    "\n",
    "\n"
   ]
  },
  {
   "cell_type": "code",
   "execution_count": null,
   "id": "68b58214",
   "metadata": {},
   "outputs": [
    {
     "name": "stdout",
     "output_type": "stream",
     "text": [
      "hhh\n",
      "eee\n",
      "lll\n",
      "lll\n",
      "ooo\n"
     ]
    }
   ],
   "source": [
    "my_string=\"hello\"\n",
    "n=3\n",
    "\n",
    "empty=[]\n",
    "for i in my_string:\n",
    "  a=i*n\n",
    "  print(a)\n"
   ]
  }
 ],
 "metadata": {
  "kernelspec": {
   "display_name": "Python 3",
   "language": "python",
   "name": "python3"
  },
  "language_info": {
   "codemirror_mode": {
    "name": "ipython",
    "version": 3
   },
   "file_extension": ".py",
   "mimetype": "text/x-python",
   "name": "python",
   "nbconvert_exporter": "python",
   "pygments_lexer": "ipython3",
   "version": "3.13.9"
  }
 },
 "nbformat": 4,
 "nbformat_minor": 5
}
