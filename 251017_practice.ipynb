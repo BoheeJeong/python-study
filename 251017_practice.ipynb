{
 "cells": [
  {
   "cell_type": "code",
   "execution_count": null,
   "id": "26c9267b",
   "metadata": {},
   "outputs": [],
   "source": [
    "#점수를 받아서 패스와 불합격을 나누고, 패스일 때의 학점을 세부적으로 분류해보자\n",
    "\n",
    "\n",
    "point=int(input(\"점수를 입력해주세요!\"))\n",
    "\n",
    "if point > 80 :\n",
    "    print(\"합격입니다\")\n",
    "    if point > 95 :\n",
    "        print(\"학점은 A 입니다\")\n",
    "    elif point>85:\n",
    "        print(\"학점은 B 입니다\")\n",
    "else:\n",
    "    print(\"불합격 입니다\")"
   ]
  },
  {
   "cell_type": "code",
   "execution_count": null,
   "id": "f8a14156",
   "metadata": {},
   "outputs": [],
   "source": [
    "#짝수와 홀수의 합을 구해보자\n",
    "\n",
    "number=int((input(\"숫자를 입력해보세요\")))\n",
    "\n",
    "x=0\n",
    "y=0\n",
    "\n",
    "\n",
    "for i in range(1,number+1):\n",
    "    if i%2 ==0:\n",
    "        print(i,\"=짝수\")\n",
    "        x+=i\n",
    "    else:\n",
    "        print(i,\"=홀수\")\n",
    "        y+=i\n",
    "\n",
    "\n",
    "print(\"짝수들의 합\",x)\n",
    "\n",
    "print(\"홀수들의 합\",y)"
   ]
  },
  {
   "cell_type": "code",
   "execution_count": null,
   "id": "6d3d5be1",
   "metadata": {},
   "outputs": [],
   "source": [
    "\n",
    "\n",
    "chicken = 1081\n",
    "coupon = chicken\n",
    "\n",
    "service_chicken = int(coupon/10)\n",
    "duoyu_coupon\n",
    "coupon=coupon+service_chicken\n",
    "#service_chicken += (coupon/10)\n",
    "\n",
    "    \n",
    "\n",
    "print(\"service_chicken\",service_chicken)\n",
    "print(\"coupon\",coupon)\n",
    "\n",
    "\n"
   ]
  },
  {
   "cell_type": "code",
   "execution_count": null,
   "id": "66909b9d",
   "metadata": {},
   "outputs": [],
   "source": [
    "for i in range (0,5):\n",
    "    star=\"\"\n",
    "\n",
    "    for j in range(0,i+1):\n",
    "        star += \"*\"\n",
    "\n",
    "    print(star)"
   ]
  },
  {
   "cell_type": "code",
   "execution_count": null,
   "id": "2c11b6f8",
   "metadata": {},
   "outputs": [],
   "source": [
    "for i in range (0,5):\n",
    "    star=\"\"\n",
    "\n",
    "    for j in range(0,i+1):\n",
    "        star = \"*****\"\n",
    "\n",
    "    print(star)"
   ]
  },
  {
   "cell_type": "code",
   "execution_count": null,
   "id": "5f58d4ce",
   "metadata": {},
   "outputs": [],
   "source": [
    "x=3\n",
    "y=5\n",
    "\n",
    "for i in range(1,101):\n",
    "    if i% x==0 and i%y ==0:\n",
    "        print(i)"
   ]
  },
  {
   "cell_type": "code",
   "execution_count": null,
   "id": "e939b88f",
   "metadata": {},
   "outputs": [],
   "source": [
    "#5명의 학생에 대한 성적 나열\n",
    "grade = [98.82,73,64,100]\n",
    "print(grade)\n",
    "\n",
    "#각 학생의 이름에 대한 나열\n",
    "names=['철수','영희','나영','민식','호영']\n",
    "\n",
    "#서로 다른 데이터 타입들 함께 사용 가능\n",
    "student=['철수',167,72,\"남자\",True]\n",
    "print(student)"
   ]
  },
  {
   "cell_type": "code",
   "execution_count": null,
   "id": "8b127afb",
   "metadata": {},
   "outputs": [],
   "source": [
    "buxi =[63,74,24]\n",
    "\n",
    "#리스트로부터 원소 추출해내기\n",
    "print(buxi[1])\n",
    "print(100+buxi[0])"
   ]
  },
  {
   "cell_type": "code",
   "execution_count": null,
   "id": "93267d7f",
   "metadata": {},
   "outputs": [],
   "source": [
    "#리스트 안에 있는 값은 새로 정의해서 변경할 수도 있음\n",
    "\n",
    "mydata =[100,200,300]\n",
    "print(mydata)\n",
    "\n",
    "mydata[0] = 150\n",
    "mydata[1]=mydata[1]-20\n",
    "mydata[2]+=300\n",
    "\n",
    "\n",
    "print(mydata)"
   ]
  },
  {
   "cell_type": "code",
   "execution_count": null,
   "id": "49b29b83",
   "metadata": {},
   "outputs": [],
   "source": [
    "#리스트의 덧셈\n",
    "#리스트를 더하면 내부 항목들이 이어져서 붙여지는 개념\n",
    "a=[1,2,3]\n",
    "b=[4,5]\n",
    "c=a+b\n",
    "print(c)\n",
    "\n",
    "\n",
    "\n",
    "#리스트의 곱셈\n",
    "d=[10,20,30]\n",
    "e=d*3\n",
    "print(e)"
   ]
  },
  {
   "cell_type": "code",
   "execution_count": null,
   "id": "2927bae2",
   "metadata": {},
   "outputs": [],
   "source": [
    "\n",
    "bohee=[160,35,60]\n",
    "gyehong=[163,40,70]\n",
    "print(bohee)\n",
    "print(gyehong)\n",
    "\n",
    "\n",
    "print(bohee+gyehong)\n",
    "print(bohee*3)\n",
    "\n"
   ]
  },
  {
   "cell_type": "code",
   "execution_count": null,
   "id": "f2078cb0",
   "metadata": {},
   "outputs": [],
   "source": [
    "student1=['나래',98]\n",
    "student2=['요니',80]\n",
    "student3=['예지',40]\n",
    "\n",
    "\n",
    "student_group = [student1,student2,student3]\n",
    "print(student_group)\n",
    "\n",
    "student_group2=[\n",
    "        ['나래',98],\n",
    "        ['요니',99],\n",
    "        ['예지',99]\n",
    "]\n",
    "\n",
    "print(student_group2)"
   ]
  },
  {
   "cell_type": "code",
   "execution_count": null,
   "id": "368550b7",
   "metadata": {},
   "outputs": [],
   "source": [
    "print(student_group[1])\n",
    "print(student_group[1][1])"
   ]
  },
  {
   "cell_type": "code",
   "execution_count": null,
   "id": "c965a009",
   "metadata": {},
   "outputs": [],
   "source": [
    "friends =[\n",
    "       ['요니',160,43],\n",
    "       ['뿌시',162,60], \n",
    "       ['나라',164,50],\n",
    "]\n",
    "\n",
    "\n",
    "print('이름:',friends[0][0],'키:',friends[0][1],'몸무게:',friends[0][2])\n",
    "print('이름:',friends[1][0],'키:',friends[1][1],'몸무게:',friends[1][2])\n",
    "print('이름:',friends[2][0],'키:',friends[2][1],'몸무게:',friends[2][2])\n",
    "\n",
    "\n"
   ]
  },
  {
   "cell_type": "code",
   "execution_count": null,
   "id": "562b83e0",
   "metadata": {},
   "outputs": [],
   "source": [
    "score=[60,70,80,90,100]\n",
    "\n",
    "print(score[:4])"
   ]
  },
  {
   "cell_type": "code",
   "execution_count": null,
   "id": "516f07ec",
   "metadata": {},
   "outputs": [],
   "source": [
    "foo=[1,2,3,4,5]\n",
    "\n",
    "foo[2:3] =[20,30,40]\n",
    "print(foo)"
   ]
  },
  {
   "cell_type": "code",
   "execution_count": null,
   "id": "8e52d80f",
   "metadata": {},
   "outputs": [],
   "source": [
    "a=100\n",
    "b=a\n",
    "print(a)\n",
    "print(b)"
   ]
  },
  {
   "cell_type": "code",
   "execution_count": null,
   "id": "d65d75bd",
   "metadata": {},
   "outputs": [],
   "source": [
    "b=200\n",
    "print(a)\n",
    "print(b)"
   ]
  },
  {
   "cell_type": "code",
   "execution_count": null,
   "id": "a789fa89",
   "metadata": {},
   "outputs": [],
   "source": [
    "foo=[1,2,3]\n",
    "bar=foo\n",
    "print(foo)\n",
    "print(bar)"
   ]
  },
  {
   "cell_type": "code",
   "execution_count": null,
   "id": "0d0b790b",
   "metadata": {},
   "outputs": [],
   "source": [
    "bar[1]=20\n",
    "print(foo)\n",
    "print(bar)"
   ]
  },
  {
   "cell_type": "code",
   "execution_count": null,
   "id": "e96b2b4c",
   "metadata": {},
   "outputs": [],
   "source": [
    "#슬라이싱을 활용한 방법\n",
    "hello =[100,200,300]\n",
    "cp2=hello[:]\n",
    "\n",
    "#복사본을 변경하더라도 원본에 영향이 없음\n",
    "cp2[1] =12345\n",
    "print(hello)\n",
    "print(cp2) \n",
    "\n",
    "\n"
   ]
  },
  {
   "cell_type": "code",
   "execution_count": null,
   "id": "df282b9e",
   "metadata": {},
   "outputs": [],
   "source": []
  },
  {
   "cell_type": "code",
   "execution_count": null,
   "id": "a29e5022",
   "metadata": {},
   "outputs": [],
   "source": [
    "#리스트 객체의 함수를 사용하는 방법\n",
    "world =[\"hello\",\"python\",\"world\"]\n",
    "cp3=world.copy()\n",
    "\n",
    "\n",
    "#복사본을 변경해도 원본에는 영향이 없음\n",
    "cp3[0]=\"nice\"\n",
    "print(world)\n",
    "print(cp3)"
   ]
  },
  {
   "cell_type": "code",
   "execution_count": null,
   "id": "2fdd2c87",
   "metadata": {},
   "outputs": [],
   "source": []
  },
  {
   "cell_type": "code",
   "execution_count": null,
   "id": "4c8323da",
   "metadata": {},
   "outputs": [],
   "source": []
  },
  {
   "cell_type": "code",
   "execution_count": null,
   "id": "e66c0afe",
   "metadata": {},
   "outputs": [],
   "source": [
    "def divmod(a, b):\n",
    "    q = a // b  # 몫\n",
    "    r = a % b   # 나머지\n",
    "    return q, r # 튜플 형태로 반환됨\n",
    "\n",
    "x, y = divmod(7, 3)\n",
    "print(x)  # 2\n",
    "print(y)  # 1\n"
   ]
  },
  {
   "cell_type": "code",
   "execution_count": null,
   "id": "f17a90c6",
   "metadata": {},
   "outputs": [],
   "source": [
    "#짝수와 홀수의 합을 구해보자\n",
    "\n",
    "\n",
    "#내가 구해야하는 것 : 내가 입력한 숫자에 대해서 하나씩 스캔하면서 짞수는 짝수끼리, 홀수는 홀수끼리 더해보자\n",
    "\n",
    "\n",
    "number = int(input(\"내가 합을 구하려는 숫자\"))\n",
    "\n",
    "x=0\n",
    "y=0\n",
    "\n",
    "for i in range (0,number+1):\n",
    "    if i%2 ==0:\n",
    "        print(\"짝수-->\",i)\n",
    "        x+=i\n",
    "    else:\n",
    "        print(\"홀수-->\",i)\n",
    "        y+=i\n",
    "\n",
    "\n",
    "print(\"짝수의 합은\" , x)\n",
    "print(\"홀수의 합은\",y)"
   ]
  },
  {
   "cell_type": "code",
   "execution_count": null,
   "id": "d3675477",
   "metadata": {},
   "outputs": [],
   "source": [
    "# 이번에는 0 ---- ,1 ---- , 2--- 를 반복해서 출력해보자\n",
    "\n",
    "\n",
    "for i in range (0,5):\n",
    "    print(i)\n",
    "\n",
    "    if(i+1<5):\n",
    "        print(\"======\")"
   ]
  },
  {
   "cell_type": "code",
   "execution_count": null,
   "id": "c7eb4fc1",
   "metadata": {},
   "outputs": [],
   "source": [
    "#3과 5의 공배수를 구해보자\n",
    "#우선 3과 5를 정의해주자\n",
    "\n",
    "x=3\n",
    "y=5\n",
    "\n",
    "for i in range (0,101):\n",
    "    if i%x==0 and i%y==0:\n",
    "        print(i)\n",
    "\n",
    "\n"
   ]
  },
  {
   "cell_type": "code",
   "execution_count": null,
   "id": "4bc3d87e",
   "metadata": {},
   "outputs": [],
   "source": [
    "#구구단을 외워보자\n",
    "#for 안에 for 가 있어야 하는 구조\n",
    "\n",
    "#내가 필요한 것 1) 곱할 숫자 2) 1-9 까지 3) 곱해진 결과값 4) 세가지에 대한 출력값\n",
    "\n",
    "\n",
    "for i in range(1,10):\n",
    "\n",
    "    for y in range(1,10):\n",
    "        z=i*y\n",
    "        print(i,\"x\",y,'=',z)\n",
    "\n",
    "    if (1+i < 10):\n",
    "        print('====')\n",
    "\n",
    "\n",
    "\n",
    "\n",
    "\n",
    "\n"
   ]
  },
  {
   "cell_type": "code",
   "execution_count": null,
   "id": "32797bc2",
   "metadata": {},
   "outputs": [],
   "source": [
    "#별 찍기 문제\n",
    "for i in range(0,5):\n",
    "    star =\"\"\n",
    "\n",
    "    for j in range(0,i+1):\n",
    "        star += \"*\"\n",
    "\n",
    "    \n",
    "    print(star)\n",
    "\n"
   ]
  },
  {
   "cell_type": "code",
   "execution_count": null,
   "id": "0cadf4c8",
   "metadata": {},
   "outputs": [],
   "source": [
    "#리스트에 있는 평균값과 총합 값을 구해보자\n",
    "\n",
    "a=[[80,20,64,74],[26,37,45,89]]\n",
    "\n",
    "for score in a:\n",
    "  print(score[1])"
   ]
  },
  {
   "cell_type": "code",
   "execution_count": null,
   "id": "1832b348",
   "metadata": {},
   "outputs": [],
   "source": [
    "a=254\n",
    "print(a)"
   ]
  }
 ],
 "metadata": {
  "kernelspec": {
   "display_name": "Python 3",
   "language": "python",
   "name": "python3"
  },
  "language_info": {
   "codemirror_mode": {
    "name": "ipython",
    "version": 3
   },
   "file_extension": ".py",
   "mimetype": "text/x-python",
   "name": "python",
   "nbconvert_exporter": "python",
   "pygments_lexer": "ipython3",
   "version": "3.13.9"
  }
 },
 "nbformat": 4,
 "nbformat_minor": 5
}
