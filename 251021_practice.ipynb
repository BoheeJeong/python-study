{
 "cells": [
  {
   "cell_type": "code",
   "execution_count": 6,
   "id": "963f153b",
   "metadata": {},
   "outputs": [
    {
     "name": "stdout",
     "output_type": "stream",
     "text": [
      "{'item_name': '상의 티셔츠', 'item_price': '15000', 'item_option': 'Blue'}\n",
      "상의 티셔츠\n",
      "15000\n",
      "Blue\n",
      "Red\n"
     ]
    }
   ],
   "source": [
    "#딕셔너리를 정의해보자\n",
    "\n",
    "item={\"item_name\":\"상의 티셔츠\",\n",
    "      \"item_price\":\"15000\",\n",
    "      \"item_option\":\"Blue\"}\n",
    "\n",
    "print(item)\n",
    "\n",
    "#딕셔너리에서 특정 원소로 접근할 때는 문자열로 작성해줘야한다\n",
    "print(item[\"item_name\"])\n",
    "print(item[\"item_price\"])\n",
    "print(item[\"item_option\"])\n",
    "\n",
    "\n",
    "#딕셔너리 값은 바로 대입형식으로 수정해줄수도 있다\n",
    "item[\"item_option\"]=\"Red\"\n",
    "print(item[\"item_option\"])"
   ]
  },
  {
   "cell_type": "code",
   "execution_count": 8,
   "id": "f7140e58",
   "metadata": {},
   "outputs": [
    {
     "name": "stdout",
     "output_type": "stream",
     "text": [
      "{'item_name': '상의 티셔츠', 'item_price': '15000', 'item_option': 'Blue', 'item_size': 'm'}\n"
     ]
    }
   ],
   "source": [
    "#딕셔너리의 확장\n",
    "item={\"item_name\":\"상의 티셔츠\",\n",
    "      \"item_price\":\"15000\",\n",
    "      \"item_option\":\"Blue\"}\n",
    "\n",
    "\n",
    "#존재하지 않는 key 값에 새로운 값과 함께 부여하면 딕셔너리가 확장된다\n",
    "\n",
    "item[\"item_size\"]=\"m\"\n",
    "print(item)"
   ]
  },
  {
   "cell_type": "code",
   "execution_count": 10,
   "id": "28723e01",
   "metadata": {},
   "outputs": [
    {
     "name": "stdout",
     "output_type": "stream",
     "text": [
      "{'item_name': '상의 티셔츠', 'item_price': '15000', 'item_option': 'Green'}\n"
     ]
    }
   ],
   "source": [
    "#같은 키가 여러개 중복되어 존재하면 마지막 항목이 덮어씌워지므로 마지막 값만 출력된다\n",
    "\n",
    "item={\"item_name\":\"상의 티셔츠\",\n",
    "      \"item_price\":\"15000\",\n",
    "      \"item_option\":\"Black\",\n",
    "      \"item_option\":\"Green\"}\n",
    "\n",
    "\n",
    "print(item)"
   ]
  },
  {
   "cell_type": "code",
   "execution_count": 18,
   "id": "babcc019",
   "metadata": {},
   "outputs": [
    {
     "name": "stdout",
     "output_type": "stream",
     "text": [
      "리스트 안에 있는 0 번째 딕셔너리 {'item_name': '상의 티셔츠', 'item_price': '15000', 'item_option': 'Blue'}\n",
      "리스트 안에 있는 1 번째 딕셔너리 {'item_name': '상의 티셔츠', 'item_price': '10000', 'item_option': 'Green'}\n",
      "리스트 안에 있는 2 번째 딕셔너리 {'item_name': '상의 티셔츠', 'item_price': '10000', 'item_option': 'Green'}\n"
     ]
    }
   ],
   "source": [
    "#딕셔너리를 원소로 가지는 리스트\n",
    "items=[\n",
    "        {\"item_name\":\"상의 티셔츠\",\n",
    "        \"item_price\":\"15000\",\n",
    "        \"item_option\":\"Blue\"},\n",
    "\n",
    "        {\"item_name\":\"상의 티셔츠\",\n",
    "        \"item_price\":\"10000\",\n",
    "        \"item_option\":\"Green\"},\n",
    "\n",
    "        {\"item_name\":\"상의 티셔츠\",\n",
    "        \"item_price\":\"10000\",\n",
    "       \"item_option\":\"Green\"}\n",
    "]\n",
    "\n",
    "\n",
    "for i in range(0,len(items)):\n",
    "  print('리스트 안에 있는 %d 번째 딕셔너리'%i, items[i])"
   ]
  },
  {
   "cell_type": "code",
   "execution_count": null,
   "id": "ce3e913a",
   "metadata": {},
   "outputs": [
    {
     "name": "stdout",
     "output_type": "stream",
     "text": [
      "리스트 안에 있는 0 번째 딕셔너리는 {'name': '이요니', 'weight': '40', 'height': '160'}\n",
      "리스트 안에 있는 1 번째 딕셔너리는 {'name': '정뿌시', 'weight': '60', 'height': '160'}\n",
      "리스트 안에 있는 2 번째 딕셔너리는 {'name': '서예지', 'weight': '50', 'height': '164'}\n"
     ]
    }
   ],
   "source": [
    "student_info=[\n",
    "        {\"name\":\"이요니\",\n",
    "        \"weight\":\"40\",\n",
    "        \"height\":\"160\"},\n",
    "\n",
    "        {\"name\":\"정뿌시\",\n",
    "        \"weight\":\"60\",\n",
    "        \"height\":\"160\"},\n",
    "\n",
    "        {\"name\":\"서예지\",\n",
    "        \"weight\":\"50\",\n",
    "       \"height\":\"156\"}\n",
    "]\n",
    "\n",
    "\n",
    "for j in range(0,len(student_info)):\n",
    "  print('리스트 안에 있는 %d 번째 딕셔너리는'%j,student_info[j])"
   ]
  },
  {
   "cell_type": "code",
   "execution_count": 42,
   "id": "5b997618",
   "metadata": {},
   "outputs": [
    {
     "name": "stdout",
     "output_type": "stream",
     "text": [
      "이요니 160 40\n",
      "정뿌시 160 60\n",
      "서예지 156 50\n",
      "이요니 160 40\n",
      "정뿌시 160 60\n",
      "서예지 156 50\n"
     ]
    }
   ],
   "source": [
    "#딕셔너리 안에 리스트가 존재하는 경우\n",
    "\n",
    "student_info={\n",
    "  \"name\":['이요니','정뿌시',\"서예지\"],\n",
    "  \"height\":[160,160,156],\n",
    "  \"weight\":[40,60,50]\n",
    "\n",
    "}\n",
    "\n",
    "print(student_info[\"name\"][0],student_info[\"height\"][0],student_info[\"weight\"][0])\n",
    "print(student_info[\"name\"][1],student_info[\"height\"][1],student_info[\"weight\"][1])\n",
    "print(student_info[\"name\"][2],student_info[\"height\"][2],student_info[\"weight\"][2])\n",
    "\n",
    "\n",
    "for j in range(0,len(student_info[\"name\"])):\n",
    "  print(student_info[\"name\"][j],student_info[\"height\"][j],student_info[\"weight\"][j])\n",
    "\n"
   ]
  },
  {
   "cell_type": "code",
   "execution_count": null,
   "id": "cc78bc7c",
   "metadata": {},
   "outputs": [
    {
     "name": "stdout",
     "output_type": "stream",
     "text": [
      "반팔 티셔츠 의 가격은 15000 원 입니다\n",
      "긴팔 티셔츠 의 가격은 20000 원 입니다\n"
     ]
    }
   ],
   "source": [
    "\n",
    "#트리구조로 계층화된 정보\n",
    "items={\n",
    "    \"item1\": {\n",
    "      \"item_name\" : \"반팔 티셔츠\",\n",
    "      \"item_price\": 15000\n",
    "\n",
    "    },\n",
    "\n",
    "    \"item2\":{\n",
    "      \"item_name\" : \"긴팔 티셔츠\",\n",
    "      \"item_price\": 20000\n",
    "\n",
    "    }\n",
    "\n",
    "}\n",
    "\n",
    "sentence= \"%s 의 가격은 %d 원 입니다\"\n",
    "print(sentence%(items[\"item1\"][\"item_name\"],items[\"item1\"][\"item_price\"]))\n",
    "print(sentence%(items[\"item2\"][\"item_name\"],items[\"item2\"][\"item_price\"]))\n",
    "#\n"
   ]
  },
  {
   "cell_type": "code",
   "execution_count": null,
   "id": "9dde8058",
   "metadata": {},
   "outputs": [
    {
     "name": "stdout",
     "output_type": "stream",
     "text": [
      "email:user1@gmail.com , comment:Good!\n",
      "email:user2@gmail.com , comment:Nice!\n",
      "email:user3@gmail.com , comment:Bad!\n"
     ]
    }
   ],
   "source": [
    "#'딕셔너리를 원소로 가지는 리스트' 를 원소로 포함하는 딕셔너리\n",
    "#리스트의 원소로 포함되는 딕셔너리는 모두 같은 구조로 존재\n",
    "\n",
    "review={\n",
    "  \"items\":[\n",
    "        {\"email\":\"user1@gmail.com\",\"comment\":\"Good!\"},\n",
    "        {\"email\":\"user2@gmail.com\",\"comment\":\"Nice!\"},\n",
    "        {\"email\":\"user3@gmail.com\",\"comment\":\"Bad!\"}\n",
    "  ]\n",
    "}\n",
    "\n",
    "result=\"email:{0} , comment:{1}\"\n",
    "\n",
    "for item in review[\"items\"]:\n",
    "  print(result.format(item[\"email\"],item[\"comment\"]))"
   ]
  },
  {
   "cell_type": "code",
   "execution_count": 11,
   "id": "5f6b0e4a",
   "metadata": {},
   "outputs": [
    {
     "name": "stdout",
     "output_type": "stream",
     "text": [
      "파이썬 프로그래밍\n",
      "No.1-1일차:프로그래밍 언어의 이해\n",
      "No.2-2일차:변수와 연산자\n",
      "No.3-3일차:함수의 이해\n",
      "No.4-4일차:조건문과 반복문\n"
     ]
    }
   ],
   "source": [
    "#기본 데이터 타입과 연속형 자료형을 동시에 포함하는 딕셔너리\n",
    "\n",
    "lectures ={\n",
    "  \"title\":\"파이썬 프로그래밍\",\n",
    "  \"subject\":[\n",
    "      {\"no\":1,\"date\":\"1일차\",\"title\":\"프로그래밍 언어의 이해\"},\n",
    "      {\"no\":2,\"date\":\"2일차\",\"title\":\"변수와 연산자\"},\n",
    "      {\"no\":3,\"date\":\"3일차\",\"title\":\"함수의 이해\"},\n",
    "      {\"no\":4,\"date\":\"4일차\",\"title\":\"조건문과 반복문\"},\n",
    "  ]\n",
    "}\n",
    "\n",
    "print(lectures[\"title\"])\n",
    "\n",
    "#우선 내가 출력하고자 하는 값을 문자 포매팅 형식으로 작성해준다\n",
    "a=\"No.{0}-{1}:{2}\"\n",
    "\n",
    "#리스트 안에 있는 딕셔너리 값을 가져오기 위해서 리스트로부터 각 닥셔너리 값들을 for 문으로 꺼내온다\n",
    "#꺼내온게 딕셔너리니 딕셔너리로부터 키 값을 적고 밸류 값들을 가져온다\n",
    "#가져온 값들을 format 에 넣어준다\n",
    "for subject in lectures[\"subject\"]:\n",
    "  print(a.format(subject[\"no\"],subject[\"date\"],subject[\"title\"]))\n"
   ]
  },
  {
   "cell_type": "code",
   "execution_count": 18,
   "id": "accad431",
   "metadata": {},
   "outputs": [
    {
     "name": "stdout",
     "output_type": "stream",
     "text": [
      "파이썬 프로그래밍\n",
      "No.1,1일차,학습 단원명 프로그래밍 언어의 이해\n",
      "No.2,2일차,학습 단원명 변수와 연산자\n",
      "No.3,3일차,학습 단원명 함수의 이해\n",
      "No.4,4일차,학습 단원명 조건문과 반복문\n"
     ]
    }
   ],
   "source": [
    "lectures ={\n",
    "  \"title\":\"파이썬 프로그래밍\",\n",
    "  \"subject\":[\n",
    "      {\"no\":1,\"date\":\"1일차\",\"title\":\"프로그래밍 언어의 이해\"},\n",
    "      {\"no\":2,\"date\":\"2일차\",\"title\":\"변수와 연산자\"},\n",
    "      {\"no\":3,\"date\":\"3일차\",\"title\":\"함수의 이해\"},\n",
    "      {\"no\":4,\"date\":\"4일차\",\"title\":\"조건문과 반복문\"},\n",
    "  ]\n",
    "}\n",
    "\n",
    "print(lectures[\"title\"])\n",
    "\n",
    "\n",
    "#우선 내가 출력하고자 하는 값을 문자 포매팅 형식으로 작성해준다\n",
    "#리스트 안에 있는 딕셔너리 값을 가져오기 위해서 리스트로부터 각 닥셔너리 값들을 for 문으로 꺼내온다\n",
    "#꺼내온게 딕셔너리니 딕셔너리로부터 키 값을 적고 밸류 값들을 가져온다\n",
    "#가져온 값들을 format 에 넣어준다\n",
    "\n",
    "a=\"No.{0},{1},학습 단원명 {2}\"\n",
    "\n",
    "for dict1 in lectures[\"subject\"]:\n",
    "  print(a.format(dict1[\"no\"],dict1[\"date\"],dict1[\"title\"]))\n",
    "\n"
   ]
  },
  {
   "cell_type": "code",
   "execution_count": 21,
   "id": "bde5e2d2",
   "metadata": {},
   "outputs": [
    {
     "name": "stdout",
     "output_type": "stream",
     "text": [
      "{'name': '정뿌시', 'avg_score': '90', 'grade': 3}\n",
      "3\n"
     ]
    }
   ],
   "source": [
    "#len() 딕셔너리의 원소수를 카운트하는 함수\n",
    "\n",
    "student_info = {\"name\":\"정뿌시\",\"avg_score\":\"90\",\"grade\":3}\n",
    "print(student_info)\n",
    "print(len(student_info))\n"
   ]
  },
  {
   "cell_type": "code",
   "execution_count": 23,
   "id": "19c3b50e",
   "metadata": {},
   "outputs": [
    {
     "name": "stdout",
     "output_type": "stream",
     "text": [
      "{'name': '정뿌시', 'grade': 3}\n"
     ]
    }
   ],
   "source": [
    "#del() 딕셔너리 값을 지워주는 함수\n",
    "\n",
    "student_info = {\"name\":\"정뿌시\",\"avg_score\":\"90\",\"grade\":3}\n",
    "del(student_info[\"avg_score\"])\n",
    "print(student_info)"
   ]
  },
  {
   "cell_type": "code",
   "execution_count": 28,
   "id": "5895ad17",
   "metadata": {},
   "outputs": [
    {
     "name": "stdout",
     "output_type": "stream",
     "text": [
      "정뿌시\n",
      "정뿌시\n",
      "27\n"
     ]
    }
   ],
   "source": [
    "#get() 메서드 > dict[\"name\"] 은, dict.get(\"name\") 이라고 표현해도 동일한 값을 반환한다\n",
    "#get() 을 쓰면 값이 없어도 오류가 나지 않고\n",
    "#값이 없을 때 원하는값을 출력하도록 할 수 있다\n",
    "\n",
    "student_info = {\"name\":\"정뿌시\",\"avg_score\":\"90\",\"grade\":3}\n",
    "print(student_info[\"name\"])\n",
    "print(student_info.get(\"name\"))\n",
    "print(student_info.get(\"age\",27))"
   ]
  },
  {
   "cell_type": "code",
   "execution_count": 34,
   "id": "b6119ae6",
   "metadata": {},
   "outputs": [
    {
     "name": "stdout",
     "output_type": "stream",
     "text": [
      "dict_keys(['name', 'avg_score', 'grade'])\n",
      "['name', 'avg_score', 'grade']\n",
      "=======================\n",
      "dict_values(['정뿌시', '90', 3])\n",
      "['정뿌시', '90', 3]\n"
     ]
    }
   ],
   "source": [
    "#key 값과 value 값만 따로 모아 리스트로 만들 수 있음\n",
    "\n",
    "student_info = {\"name\":\"정뿌시\",\"avg_score\":\"90\",\"grade\":3}\n",
    "\n",
    "\n",
    "key_dict=student_info.keys()\n",
    "key_list=list(student_info.keys())       #많이 쓰는 표현 형태\n",
    "print(key_dict)\n",
    "print(key_list)\n",
    "\n",
    "print(\"=======================\")\n",
    "value_dict=student_info.values()\n",
    "value_list=list(student_info.values())   #많이 쓰는 표현 형태\n",
    "print(value_dict)\n",
    "print(value_list)\n"
   ]
  },
  {
   "cell_type": "code",
   "execution_count": 36,
   "id": "f4f11893",
   "metadata": {},
   "outputs": [
    {
     "name": "stdout",
     "output_type": "stream",
     "text": [
      "{'name': '김뿌시', 'avg_score': '80', 'grade': 3}\n"
     ]
    }
   ],
   "source": [
    "#딕셔너리의 확장과 복사\n",
    "\n",
    "#extend() 처럼 기존 딕셔너리에 다른 딕셔너리를 추가하는 update() 매서드\n",
    "\n",
    "student_info1 = {\"name\":\"정뿌시\",\"avg_score\":\"90\",\"grade\":3}\n",
    "student_info2 = {\"name\":\"김뿌시\",\"avg_score\":\"80\",\"grade\":3}\n",
    "\n",
    "\n",
    "student_info1.update(student_info2)\n",
    "print(student_info1)"
   ]
  },
  {
   "cell_type": "code",
   "execution_count": 39,
   "id": "dc970907",
   "metadata": {},
   "outputs": [
    {
     "name": "stdout",
     "output_type": "stream",
     "text": [
      "원본 {'name': '김뿌시', 'avg_score': '80', 'grade': 3} 카피본 {'avg_score': '80', 'grade': 3}\n"
     ]
    }
   ],
   "source": [
    "#딕셔너리의 깊은 복사는 copy() 매서드\n",
    "\n",
    "student_info2 = {\"name\":\"김뿌시\",\"avg_score\":\"80\",\"grade\":3}\n",
    "new_student_info = student_info2.copy()\n",
    "\n",
    "\n",
    "del(new_student_info[\"name\"])\n",
    "print(\"원본\",student_info2,'카피본',new_student_info)"
   ]
  },
  {
   "cell_type": "code",
   "execution_count": 41,
   "id": "572b923c",
   "metadata": {},
   "outputs": [
    {
     "name": "stdout",
     "output_type": "stream",
     "text": [
      "{}\n"
     ]
    }
   ],
   "source": [
    "#딕셔너리의 모든 원소를 삭제하는 clear() 매서드\n",
    "#공간은 남아있지만 안에 있는 값들이 모두 지워짐\n",
    "new_student_info.clear()\n",
    "print(new_student_info)\n"
   ]
  },
  {
   "cell_type": "code",
   "execution_count": 54,
   "id": "88d38476",
   "metadata": {},
   "outputs": [
    {
     "ename": "SyntaxError",
     "evalue": "invalid syntax (4194821133.py, line 21)",
     "output_type": "error",
     "traceback": [
      "  \u001b[36mCell\u001b[39m\u001b[36m \u001b[39m\u001b[32mIn[54]\u001b[39m\u001b[32m, line 21\u001b[39m\n\u001b[31m    \u001b[39m\u001b[31m<정답>\u001b[39m\n    ^\n\u001b[31mSyntaxError\u001b[39m\u001b[31m:\u001b[39m invalid syntax\n"
     ]
    }
   ],
   "source": [
    "\n",
    "\n",
    "#초기 답 >> 단순 부피 계산이 아니라 직육면체의 모서리 크기를 기준으로 계산 했어야 함\n",
    "# def solution(box, n):\n",
    "#     box=box[0]*box[1]*box[2]\n",
    "#     dice=n*n*n\n",
    "#     max_dice=int(box/dice)\n",
    "#     return max_dice\n",
    "\n",
    "\n",
    "def solution(box, n):\n",
    "    answer=1\n",
    "    for i in box :\n",
    "      each_length=i//n\n",
    "      print(each_length)\n",
    "      answer*=each_length\n",
    "      return answer\n",
    "\n",
    "\n",
    "\n",
    "\n",
    "\n",
    "<정답>\n",
    "\n",
    "\n",
    "def solution(box, n):\n",
    "    answer=1\n",
    "    for i in box :\n",
    "        each_length=i//n\n",
    "        print(each_length)\n",
    "        answer*=each_length\n",
    "    return answer\n"
   ]
  },
  {
   "cell_type": "code",
   "execution_count": 57,
   "id": "8103ba03",
   "metadata": {},
   "outputs": [
    {
     "name": "stdout",
     "output_type": "stream",
     "text": [
      "결과는 12 입니다\n"
     ]
    }
   ],
   "source": [
    "x=int(input(\"숫자를 입력하시오\"))\n",
    "\n",
    "if x==0:\n",
    "  print('0이 아닌 다른 숫자를 입력해주세요!')\n",
    "\n",
    "else:\n",
    "  y=100/x\n",
    "  print('결과는 %d 입니다' %y)"
   ]
  },
  {
   "cell_type": "code",
   "execution_count": 58,
   "id": "b28b4b8b",
   "metadata": {},
   "outputs": [
    {
     "name": "stdout",
     "output_type": "stream",
     "text": [
      "인원수가 너무 큽니다\n"
     ]
    }
   ],
   "source": [
    "#리스트가 하나 있다\n",
    "#리스트안에 있는 숫자보다 입력한 숫자가 클 때, 인원수값이 너무 큽이다를 출력해보자\n",
    "\n",
    "mylist =[74,86,95,43,86]\n",
    "mysum=0\n",
    "\n",
    "\n",
    "x=int(input(\"인원수를 입력해주세요!\"))\n",
    "\n",
    "if len(mylist) <x:\n",
    "  print(\"인원수가 너무 큽니다\")\n",
    "else:\n",
    "  for i in range(x):\n",
    "    mysum+=mylist[i]\n",
    "\n",
    "\n",
    "  print(\"합계는 %d 입니다\" %mysum)"
   ]
  }
 ],
 "metadata": {
  "kernelspec": {
   "display_name": "Python 3",
   "language": "python",
   "name": "python3"
  },
  "language_info": {
   "codemirror_mode": {
    "name": "ipython",
    "version": 3
   },
   "file_extension": ".py",
   "mimetype": "text/x-python",
   "name": "python",
   "nbconvert_exporter": "python",
   "pygments_lexer": "ipython3",
   "version": "3.13.9"
  }
 },
 "nbformat": 4,
 "nbformat_minor": 5
}
