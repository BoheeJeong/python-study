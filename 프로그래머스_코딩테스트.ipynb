{
 "cells": [
  {
   "cell_type": "code",
   "execution_count": null,
   "id": "14d3198e",
   "metadata": {},
   "outputs": [],
   "source": [
    "# 머쓱이는 친구들과 동그랗게 서서 공 던지기 게임을 하고 있습니다. 공은 1번부터 던지며 오른쪽으로 한 명을 건너뛰고 그다음 사람에게만 던질 수 있습니다. 친구들의 번호가 들어있는 정수 배열 numbers와 정수 K가 주어질 때, k번째로 공을 던지는 사람의 번호는 무엇인지 return 하도록 solution 함수를 완성해보세요.\n",
    "\n",
    "\n",
    "numbers=[1,2,3,4]\n",
    "\n",
    "def solution(numbers, k):\n",
    "    full_numbers=numbers*100000\n",
    "    \n",
    "    for i,item in enumerate(full_numbers):\n",
    "        if i%2==0:\n",
    "            \n",
    "            if i ==k :\n",
    "                break\n",
    "    return item\n"
   ]
  },
  {
   "cell_type": "code",
   "execution_count": 1,
   "id": "83b7db21",
   "metadata": {},
   "outputs": [
    {
     "name": "stdout",
     "output_type": "stream",
     "text": [
      "[2, 4, 6, 8, 10, 12]\n"
     ]
    }
   ],
   "source": [
    "numbers=[1,2,3,4,5,6]\n",
    "\n",
    "new_list=[]\n",
    "for i in numbers:\n",
    "    a=i*2\n",
    "    new_list.append(a)\n",
    "\n",
    "print(new_list)\n",
    "\n"
   ]
  },
  {
   "cell_type": "code",
   "execution_count": 90,
   "id": "f520e156",
   "metadata": {},
   "outputs": [],
   "source": [
    "# 머쓱이는 행운의 숫자 7을 가장 좋아합니다. \n",
    "# 정수 배열 array가 매개변수로 주어질 때, 7이 총 몇 개 있는지 return 하도록 solution 함수를 완성해보세요.\n",
    "\n",
    "a=[7,77,17]\n",
    "v=\"\"\n",
    "for i in a:\n",
    "  str_a=str(i)\n",
    "  v+=str_a\n",
    "anwer=v.count(\"7\")\n"
   ]
  },
  {
   "cell_type": "code",
   "execution_count": 93,
   "id": "01b464b4",
   "metadata": {},
   "outputs": [
    {
     "name": "stdout",
     "output_type": "stream",
     "text": [
      "login\n"
     ]
    }
   ],
   "source": [
    "# 머쓱이는 프로그래머스에 로그인하려고 합니다. 머쓱이가 입력한 아이디와 패스워드가 담긴 배열 id_pw와 회원들의 정보가 담긴 2차원 배열 db가 주어질 때, 다음과 같이 로그인 성공, 실패에 따른 메시지를 return하도록 solution 함수를 완성해주세요.\n",
    "\n",
    "# 아이디와 비밀번호가 모두 일치하는 회원정보가 있으면 \"login\"을 return합니다.\n",
    "# 로그인이 실패했을 때 아이디가 일치하는 회원이 없다면 “fail”를, 아이디는 일치하지만 비밀번호가 일치하는 회원이 없다면 “wrong pw”를 return 합니다.\n",
    "\n",
    "\n",
    "id_pw=[\"meosseugi\", \"1234\"]\n",
    "db=[[\"rardss\", \"123\"], [\"yyoom\", \"1234\"], [\"meosseugi\", \"1234\"]]\n",
    "\n",
    "if id_pw in db:\n",
    "  print(\"login\")\n",
    "\n",
    "else:\n",
    "  if id_pw[0] not in db.keys():\n",
    "    print(\"fail\")\n",
    "  \n",
    "  elif id_pw[1] not in db.values():\n",
    "    print(\"wrong pw\")\n",
    "\n",
    "\n"
   ]
  },
  {
   "cell_type": "code",
   "execution_count": 1,
   "id": "6f3acbf6",
   "metadata": {},
   "outputs": [
    {
     "ename": "NameError",
     "evalue": "name '룰루랄라' is not defined",
     "output_type": "error",
     "traceback": [
      "\u001b[31m---------------------------------------------------------------------------\u001b[39m",
      "\u001b[31mNameError\u001b[39m                                 Traceback (most recent call last)",
      "\u001b[36mCell\u001b[39m\u001b[36m \u001b[39m\u001b[32mIn[1]\u001b[39m\u001b[32m, line 1\u001b[39m\n\u001b[32m----> \u001b[39m\u001b[32m1\u001b[39m \u001b[43m룰루랄라\u001b[49m\n",
      "\u001b[31mNameError\u001b[39m: name '룰루랄라' is not defined"
     ]
    }
   ],
   "source": [
    "룰루랄라\n"
   ]
  },
  {
   "cell_type": "code",
   "execution_count": 2,
   "id": "abd1fb62",
   "metadata": {},
   "outputs": [
    {
     "ename": "SyntaxError",
     "evalue": "invalid syntax (255068491.py, line 1)",
     "output_type": "error",
     "traceback": [
      "  \u001b[36mCell\u001b[39m\u001b[36m \u001b[39m\u001b[32mIn[2]\u001b[39m\u001b[32m, line 1\u001b[39m\n\u001b[31m    \u001b[39m\u001b[31m2차 수정 룰루랄라\u001b[39m\n     ^\n\u001b[31mSyntaxError\u001b[39m\u001b[31m:\u001b[39m invalid syntax\n"
     ]
    }
   ],
   "source": [
    "2차 수정 룰루랄라\n"
   ]
  }
 ],
 "metadata": {
  "kernelspec": {
   "display_name": "Python 3",
   "language": "python",
   "name": "python3"
  },
  "language_info": {
   "codemirror_mode": {
    "name": "ipython",
    "version": 3
   },
   "file_extension": ".py",
   "mimetype": "text/x-python",
   "name": "python",
   "nbconvert_exporter": "python",
   "pygments_lexer": "ipython3",
   "version": "3.13.9"
  }
 },
 "nbformat": 4,
 "nbformat_minor": 5
}
