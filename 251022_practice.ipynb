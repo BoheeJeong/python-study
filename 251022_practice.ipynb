{
 "cells": [
  {
   "cell_type": "markdown",
   "id": "e2472e57",
   "metadata": {},
   "source": [
    "# 객체지향 프로그래밍의 이해\n",
    "## 클래스와 객체\n",
    "### 클래스 정의하기\n"
   ]
  },
  {
   "cell_type": "code",
   "execution_count": 1,
   "id": "011b631d",
   "metadata": {},
   "outputs": [],
   "source": [
    "class Dragoon:\n",
    "  speed =None\n",
    "  hp = None\n",
    "  attack =None\n",
    "  defense = None\n",
    "\n",
    "\n",
    "  "
   ]
  },
  {
   "cell_type": "markdown",
   "id": "79051fa4",
   "metadata": {},
   "source": [
    "### 클래스로부터 객체 생성"
   ]
  },
  {
   "cell_type": "code",
   "execution_count": 4,
   "id": "14e91616",
   "metadata": {},
   "outputs": [
    {
     "name": "stdout",
     "output_type": "stream",
     "text": [
      "speed:10, hp:100,attack:20,defense:5\n"
     ]
    }
   ],
   "source": [
    "#객체 생성하기\n",
    "dg1 =Dragoon()\n",
    "\n",
    "\n",
    "#객체의 속성 설정하기\n",
    "dg1.speed=10\n",
    "dg1.hp=100\n",
    "dg1.attack=20\n",
    "dg1.defense=5\n",
    "\n",
    "\n",
    "#객체의 속성 일괄 출력하기\n",
    "tpl=\"speed:{0}, hp:{1},attack:{2},defense:{3}\"\n",
    "print(tpl.format(dg1.speed,dg1.hp,dg1.attack,dg1.defense))\n"
   ]
  },
  {
   "cell_type": "markdown",
   "id": "fefa3319",
   "metadata": {},
   "source": [
    "### 객체안에 포함된 값 변경하기"
   ]
  },
  {
   "cell_type": "code",
   "execution_count": null,
   "id": "0154c416",
   "metadata": {},
   "outputs": [
    {
     "name": "stdout",
     "output_type": "stream",
     "text": [
      "speed:12, hp:110,attack:24,defense:7\n"
     ]
    }
   ],
   "source": [
    "#레벨업을 할 경우 모든 능력치를 증가하게 한다\n",
    "dg1.speed +=1\n",
    "dg1.hp +=10\n",
    "dg1.attack +=2\n",
    "dg1.defense +=1\n",
    "\n",
    "\n",
    "\n",
    "#공격을 받을 경우 hp가 감소한다\n",
    "dg1.hp -=10\n",
    "\n",
    "\n",
    "#객체의 속성 일괄 출력하기\n",
    "tpl=\"speed:{0}, hp:{1},attack:{2},defense:{3}\"\n",
    "print(tpl.format(dg1.speed,dg1.hp,dg1.attack,dg1.defense))\n",
    "\n",
    "\n"
   ]
  },
  {
   "cell_type": "markdown",
   "id": "e44aca72",
   "metadata": {},
   "source": [
    "### 클래스의 재사용"
   ]
  },
  {
   "cell_type": "code",
   "execution_count": 7,
   "id": "823f9a49",
   "metadata": {},
   "outputs": [
    {
     "name": "stdout",
     "output_type": "stream",
     "text": [
      "speed:12, hp:110,attack:24,defense:7\n",
      "speed:12, hp:120,attack:22,defense:7\n"
     ]
    }
   ],
   "source": [
    "dg2=Dragoon()\n",
    "dg2.speed =12\n",
    "dg2.hp =120\n",
    "dg2.attack=22\n",
    "dg2.defense=7\n",
    "\n",
    "\n",
    "tpl=\"speed:{0}, hp:{1},attack:{2},defense:{3}\"\n",
    "print(tpl.format(dg1.speed,dg1.hp,dg1.attack,dg1.defense))\n",
    "print(tpl.format(dg2.speed,dg2.hp,dg2.attack,dg2.defense))\n",
    "\n",
    "\n",
    "\n"
   ]
  },
  {
   "cell_type": "markdown",
   "id": "7bcd252f",
   "metadata": {},
   "source": [
    "### 메서드만 포함하는 클래스\n",
    "#### 클래스 정의하기\n"
   ]
  },
  {
   "cell_type": "code",
   "execution_count": 8,
   "id": "fa16c40b",
   "metadata": {},
   "outputs": [],
   "source": [
    "class Probe:\n",
    "  #이동 메서드 -> 이동할 좌표를 전달받아 이동한다.\n",
    "\n",
    "  def move(self,x,y):\n",
    "    print(\"좌표 {0},{1}로 이동합니다\".format(x,y))\n",
    "\n",
    "\n",
    "  #광물을 채집하는 메서드 > 채집된 광물을 반환합니다\n",
    "  def mineral(self):\n",
    "    print(\"광물을 채집합니다.(+10)\")\n",
    "    return 10\n",
    "  \n",
    "\n",
    "  #가스를 채집하는 메서드 -> 채집된 가스를 반환합니다\n",
    "  def gas(self):\n",
    "    print(\"가스를 채집합니다. (+5)\")\n",
    "    return 5"
   ]
  },
  {
   "cell_type": "markdown",
   "id": "9569a270",
   "metadata": {},
   "source": [
    "### 객체를 통한 메서드 호출"
   ]
  },
  {
   "cell_type": "code",
   "execution_count": 11,
   "id": "39cb00fe",
   "metadata": {},
   "outputs": [
    {
     "name": "stdout",
     "output_type": "stream",
     "text": [
      "좌표 10,10로 이동합니다\n",
      "광물을 채집합니다.(+10)\n",
      "광물을 채집합니다.(+10)\n",
      "광물을 채집합니다.(+10)\n",
      "가스를 채집합니다. (+5)\n",
      "가스를 채집합니다. (+5)\n",
      "채집된 광물 : 30, 채집된 가스 : 10\n",
      "채집된 광물 30\n"
     ]
    }
   ],
   "source": [
    "probe1=Probe()\n",
    "probe1.move(10,10)\n",
    "\n",
    "\n",
    "my_mineral=0\n",
    "my_mineral += probe1.mineral()\n",
    "my_mineral += probe1.mineral()\n",
    "my_mineral += probe1.mineral()\n",
    "\n",
    "\n",
    "my_gas=0\n",
    "my_gas += probe1.gas()\n",
    "my_gas += probe1.gas()\n",
    "\n",
    "\n",
    "print(\"채집된 광물 : {0}, 채집된 가스 : {1}\".format(my_mineral,my_gas))\n",
    "print(f\"채집된 광물 {my_mineral}\")\n"
   ]
  },
  {
   "cell_type": "markdown",
   "id": "42379f15",
   "metadata": {},
   "source": [
    "### 메서드를 통한 멤버변수의 데이터 설정과 출력\n"
   ]
  },
  {
   "cell_type": "code",
   "execution_count": 46,
   "id": "c1825467",
   "metadata": {},
   "outputs": [
    {
     "name": "stdout",
     "output_type": "stream",
     "text": [
      "현재 체력은 100, 공격력은 20\n",
      "몬스터가 레벨업 하면서 체력은 +10  , 공격력은 +2 올라갔습니다\n",
      "공격을 받아 hp 가 80 으로 감소합니다\n"
     ]
    }
   ],
   "source": [
    "class monster:\n",
    "  hp:None\n",
    "  monster_power:None\n",
    "\n",
    "  #객체의 속성을 일괄 출력하는 메서드\n",
    "  def state(self):\n",
    "    print(\"현재 체력은 {0}, 공격력은 {1}\".format(self.hp,self.monster_power))\n",
    "\n",
    "  #레벨업 -> 모든 속성 멤버 변수들이 증가한다\n",
    "  def level_up(self):\n",
    "    self.hp += 10\n",
    "    self.monster_power +=2\n",
    "    print(\"몬스터가 레벨업 하면서 체력은 +10  , 공격력은 +2 올라갔습니다\")\n",
    "\n",
    "   #공격을 받아 hp 가 감소합니다\n",
    "  def attacked(self,attack):\n",
    "    self.hp -=attack\n",
    "    print('공격을 받아 hp 가 {0} 으로 감소합니다'.format(self.hp))\n",
    "\n",
    "\n",
    "mushroom=monster()\n",
    "mushroom.hp=100\n",
    "mushroom.monster_power =20\n",
    "\n",
    "\n",
    "mushroom.state()\n",
    "mushroom.level_up()\n",
    "mushroom.attacked(30)\n",
    "\n",
    "\n"
   ]
  },
  {
   "cell_type": "markdown",
   "id": "1c4287cb",
   "metadata": {},
   "source": [
    "### 생성자를 갖는 클래스 정의하기"
   ]
  },
  {
   "cell_type": "code",
   "execution_count": 49,
   "id": "45ddbae9",
   "metadata": {},
   "outputs": [
    {
     "name": "stdout",
     "output_type": "stream",
     "text": [
      "[마린1] You wanna piece of me, boy?\n",
      "[마린2] You wanna piece of me, boy?\n",
      "[마린1] hp: 100\n",
      "[마린2] hp: 100\n",
      "[마린1] 적의 공격을 받아 hp가 30 감소했습니다.\n",
      "[마린2] 적의 공격을 받아 hp가 20 감소했습니다.\n",
      "[마린1] hp: 70\n",
      "[마린2] hp: 80\n",
      "[마린1] 레벨업을 하여 체력이 (+5) 증가했습니다.\n",
      "[마린2] 레벨업을 하여 체력이 (+5) 증가했습니다.\n",
      "[마린1] hp: 75\n",
      "[마린2] hp: 85\n"
     ]
    }
   ],
   "source": [
    "class Marine:\n",
    "    name = None\n",
    "    hp = None\n",
    "\n",
    "    # 생성자 — 객체가 만들어질 때 자동 실행\n",
    "    def __init__(self, name, hp):\n",
    "        self.name = name\n",
    "        self.hp = hp\n",
    "        print(\"[{0}] You wanna piece of me, boy?\".format(self.name))\n",
    "\n",
    "    # 객체의 상태 출력\n",
    "    def state(self):\n",
    "        print(\"[{0}] hp: {1}\".format(self.name, self.hp))\n",
    "\n",
    "    # 레벨업 메서드\n",
    "    def level_up(self):\n",
    "        self.hp += 5\n",
    "        print(\"[{0}] 레벨업을 하여 체력이 (+5) 증가했습니다.\".format(self.name))\n",
    "\n",
    "    # 공격받을 때 HP 감소\n",
    "    def attacked(self, enemy_attack):\n",
    "        self.hp -= enemy_attack\n",
    "        print(\"[{0}] 적의 공격을 받아 hp가 {1} 감소했습니다.\".format(self.name, enemy_attack))\n",
    "\n",
    "\n",
    "m1 = Marine(\"마린1\", 100)\n",
    "m2 = Marine(\"마린2\", 100)\n",
    "\n",
    "m1.state()\n",
    "m2.state()\n",
    "\n",
    "m1.attacked(30)\n",
    "m2.attacked(20)\n",
    "\n",
    "m1.state()\n",
    "m2.state()\n",
    "\n",
    "m1.level_up()\n",
    "m2.level_up()\n",
    "\n",
    "m1.state()\n",
    "m2.state()\n",
    "\n"
   ]
  },
  {
   "cell_type": "code",
   "execution_count": 51,
   "id": "583f377b",
   "metadata": {},
   "outputs": [],
   "source": [
    "class Terran:\n",
    "  name=None\n",
    "  hp=None\n",
    "\n",
    "  def __init__(self,name,hp):\n",
    "    self.name=name\n",
    "    self.hp=hp\n",
    "\n",
    "  \n",
    "  def info(self):\n",
    "    return \"[%s] HP: %d\"%(self.name,self.hp) \n",
    "  "
   ]
  },
  {
   "cell_type": "code",
   "execution_count": null,
   "id": "b80d7588",
   "metadata": {},
   "outputs": [
    {
     "name": "stdout",
     "output_type": "stream",
     "text": [
      "[마린1] HP: 45\n",
      "[마린1] 총을 쏘아 100의 데미지를 입혔습니다\n"
     ]
    }
   ],
   "source": [
    "class Marine(Terran): #Marine 은 Terran 을 상속받아 위에 존재하는 생성자와 변수들을 그대로 상속받는다\n",
    "  def shoot(self,attack):  #기존 Terra 에는 존재하지 않던 새로운 매서드를 정의하여 기능을 확장한다\n",
    "    return \"[%s] 총을 쏘아 %d의 데미지를 입혔습니다\" %(self.name,attack) \n",
    "  \n",
    "\n",
    "m=Marine('마린1',45)\n",
    "print(m.info())\n",
    "print(m.shoot(100))"
   ]
  },
  {
   "cell_type": "code",
   "execution_count": null,
   "id": "e053872a",
   "metadata": {},
   "outputs": [
    {
     "ename": "TypeError",
     "evalue": "unsupported operand type(s) for +=: 'method' and 'str'",
     "output_type": "error",
     "traceback": [
      "\u001b[31m---------------------------------------------------------------------------\u001b[39m",
      "\u001b[31mTypeError\u001b[39m                                 Traceback (most recent call last)",
      "\u001b[36mCell\u001b[39m\u001b[36m \u001b[39m\u001b[32mIn[60]\u001b[39m\u001b[32m, line 20\u001b[39m\n\u001b[32m     17\u001b[39m     \u001b[38;5;28;01mreturn\u001b[39;00m \u001b[33m\"\u001b[39m\u001b[33m[\u001b[39m\u001b[38;5;132;01m%s\u001b[39;00m\u001b[33m] \u001b[39m\u001b[38;5;132;01m%s\u001b[39;00m\u001b[33m의 체력을 회복시킵니다 (mana:-5)\u001b[39m\u001b[33m\"\u001b[39m%(\u001b[38;5;28mself\u001b[39m.name,target)\n\u001b[32m     19\u001b[39m md=Medic(\u001b[33m'\u001b[39m\u001b[33m메딕1\u001b[39m\u001b[33m'\u001b[39m,\u001b[32m30\u001b[39m,\u001b[32m100\u001b[39m)\n\u001b[32m---> \u001b[39m\u001b[32m20\u001b[39m \u001b[38;5;28mprint\u001b[39m(\u001b[43mmd\u001b[49m\u001b[43m.\u001b[49m\u001b[43minfo_ex\u001b[49m\u001b[43m(\u001b[49m\u001b[43m)\u001b[49m)\n\u001b[32m     21\u001b[39m \u001b[38;5;28mprint\u001b[39m(md.heel(\u001b[33m'\u001b[39m\u001b[33m마린1\u001b[39m\u001b[33m'\u001b[39m))\n",
      "\u001b[36mCell\u001b[39m\u001b[36m \u001b[39m\u001b[32mIn[60]\u001b[39m\u001b[32m, line 11\u001b[39m, in \u001b[36mMedic.info_ex\u001b[39m\u001b[34m(self)\u001b[39m\n\u001b[32m      9\u001b[39m \u001b[38;5;28;01mdef\u001b[39;00m\u001b[38;5;250m \u001b[39m\u001b[34minfo_ex\u001b[39m(\u001b[38;5;28mself\u001b[39m):\n\u001b[32m     10\u001b[39m   info_msg=\u001b[38;5;28msuper\u001b[39m().info\n\u001b[32m---> \u001b[39m\u001b[32m11\u001b[39m   \u001b[43minfo_msg\u001b[49m\u001b[43m \u001b[49m\u001b[43m+\u001b[49m\u001b[43m=\u001b[49m\u001b[43m \u001b[49m\u001b[33;43m\"\u001b[39;49m\u001b[33;43m, MANA :\u001b[39;49m\u001b[38;5;132;43;01m%d\u001b[39;49;00m\u001b[33;43m\"\u001b[39;49m\u001b[43m \u001b[49m\u001b[43m%\u001b[49m\u001b[38;5;28;43mself\u001b[39;49m\u001b[43m.\u001b[49m\u001b[43mmana\u001b[49m\n\u001b[32m     12\u001b[39m   \u001b[38;5;28;01mreturn\u001b[39;00m info_msg\n",
      "\u001b[31mTypeError\u001b[39m: unsupported operand type(s) for +=: 'method' and 'str'"
     ]
    }
   ],
   "source": [
    "class Medic(Terran):\n",
    "  mana=None\n",
    "\n",
    "  def __init__(self,name,hp,mana):\n",
    "    super().__init__(name,hp)\n",
    "\n",
    "    self.mana=mana\n",
    "  \n",
    "  def info_ex(self):\n",
    "    info_msg=super().info()\n",
    "    info_msg += \", MANA :%d\" %self.mana\n",
    "    return info_msg\n",
    "  \n",
    "\n",
    "  def heel(self,target):\n",
    "    self.mana-+5\n",
    "    return \"[%s] %s의 체력을 회복시킵니다 (mana:-5)\"%(self.name,target)\n",
    "  \n",
    "md=Medic('메딕1',30,100)\n",
    "print(md.info_ex())\n",
    "print(md.heel('마린1'))\n",
    "\n"
   ]
  },
  {
   "cell_type": "code",
   "execution_count": 80,
   "id": "0cbe2e4a",
   "metadata": {},
   "outputs": [
    {
     "name": "stdout",
     "output_type": "stream",
     "text": [
      "6\n"
     ]
    }
   ],
   "source": [
    "\n",
    "numbers=[1,2,3,4,5,6]\n",
    "k=5\n",
    "\n",
    "full_numbers=numbers*100000\n",
    "\n",
    "for i,item in enumerate(full_numbers):\n",
    "  if i%2==0:\n",
    "\n",
    "    if i ==k :\n",
    "      break\n",
    "print(item)\n",
    "  "
   ]
  },
  {
   "cell_type": "code",
   "execution_count": null,
   "id": "41f4cbce",
   "metadata": {},
   "outputs": [
    {
     "name": "stdout",
     "output_type": "stream",
     "text": [
      "동물이 소리를 냅니다.\n",
      "멍멍!\n"
     ]
    }
   ],
   "source": [
    "#매서드 오버라이드 > 부모 클래스의 기능 수정하기\n",
    "class Animal:\n",
    "  def sound(self):\n",
    "    print(\"동물이 소리를 냅니다.\")\n",
    "\n",
    "\n",
    "class Dog(Animal):\n",
    "  def sound(self):   #부모로부터 상속받은 sound() 매서드를 수정할 수 있다\n",
    "    print(\"멍멍!\")\n",
    "\n",
    "a=Animal()\n",
    "a.sound()\n",
    "\n",
    "d=Dog()\n",
    "d.sound()"
   ]
  },
  {
   "cell_type": "code",
   "execution_count": null,
   "id": "5ad5d7d6",
   "metadata": {},
   "outputs": [
    {
     "name": "stdout",
     "output_type": "stream",
     "text": [
      "동물이 소리를 냅니다\n",
      "야옹\n"
     ]
    }
   ],
   "source": [
    "#부모 클래스의 기능을 유지하면서 추가적인 기능을 덧붙이는 오버라이드\n",
    "\n",
    "#부모의 매서드를 오버라이드하는 매서드 안에서는 super() 함수를 통해 재정의되기 전의 원본 기능에 접근할 수 있음\n",
    "\n",
    "\n",
    "\n",
    "class Animal:\n",
    "  def sound(self):\n",
    "    print(\"동물이 소리를 냅니다\")\n",
    "\n",
    "class Cat(Animal):\n",
    "  def sound(self):\n",
    "    super().sound()\n",
    "    print('야옹')\n",
    "\n",
    "\n",
    "\n",
    "c=Cat()\n",
    "c.sound()"
   ]
  },
  {
   "cell_type": "code",
   "execution_count": null,
   "id": "69353457",
   "metadata": {},
   "outputs": [],
   "source": []
  },
  {
   "cell_type": "code",
   "execution_count": null,
   "id": "03b38d5b",
   "metadata": {},
   "outputs": [],
   "source": []
  },
  {
   "cell_type": "code",
   "execution_count": null,
   "id": "2eca85cb",
   "metadata": {},
   "outputs": [],
   "source": []
  },
  {
   "cell_type": "code",
   "execution_count": null,
   "id": "b650605a",
   "metadata": {},
   "outputs": [],
   "source": []
  },
  {
   "cell_type": "code",
   "execution_count": null,
   "id": "62bddb07",
   "metadata": {},
   "outputs": [],
   "source": []
  },
  {
   "cell_type": "code",
   "execution_count": null,
   "id": "f7bc4609",
   "metadata": {},
   "outputs": [],
   "source": []
  },
  {
   "cell_type": "code",
   "execution_count": null,
   "id": "a81c69bc",
   "metadata": {},
   "outputs": [],
   "source": []
  },
  {
   "cell_type": "markdown",
   "id": "4469746a",
   "metadata": {},
   "source": []
  },
  {
   "cell_type": "markdown",
   "id": "238dc75f",
   "metadata": {},
   "source": []
  },
  {
   "cell_type": "markdown",
   "id": "e8c2da8f",
   "metadata": {},
   "source": []
  },
  {
   "cell_type": "markdown",
   "id": "a855337f",
   "metadata": {},
   "source": []
  }
 ],
 "metadata": {
  "kernelspec": {
   "display_name": "Python 3",
   "language": "python",
   "name": "python3"
  },
  "language_info": {
   "codemirror_mode": {
    "name": "ipython",
    "version": 3
   },
   "file_extension": ".py",
   "mimetype": "text/x-python",
   "name": "python",
   "nbconvert_exporter": "python",
   "pygments_lexer": "ipython3",
   "version": "3.13.9"
  }
 },
 "nbformat": 4,
 "nbformat_minor": 5
}
