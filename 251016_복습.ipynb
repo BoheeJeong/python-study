{
 "cells": [
  {
   "cell_type": "code",
   "execution_count": 28,
   "id": "39acee66",
   "metadata": {},
   "outputs": [
    {
     "name": "stdout",
     "output_type": "stream",
     "text": [
      "x= 1\n",
      "x= 2\n",
      "x= 3\n",
      "x= 4\n",
      "x= 5\n",
      "x= 6\n",
      "x= 7\n",
      "x= 8\n",
      "x= 9\n",
      "x= 10\n"
     ]
    }
   ],
   "source": [
    "#1부터 10 까지\n",
    "x=1\n",
    "while x<=10:\n",
    "    print(\"x=\",x)\n",
    "    x+=1\n"
   ]
  },
  {
   "cell_type": "code",
   "execution_count": 32,
   "id": "7c6fdfbf",
   "metadata": {},
   "outputs": [
    {
     "name": "stdout",
     "output_type": "stream",
     "text": [
      "8 x 1 = 8\n",
      "8 x 2 = 16\n",
      "8 x 3 = 24\n",
      "8 x 4 = 32\n",
      "8 x 5 = 40\n",
      "8 x 6 = 48\n",
      "8 x 7 = 56\n",
      "8 x 8 = 64\n",
      "8 x 9 = 72\n"
     ]
    }
   ],
   "source": [
    "#구구단\n",
    "g=int((input(\"구구단을 구해봅시다\")))\n",
    "y=1\n",
    "while y<10 :\n",
    "    z=g*y\n",
    "    print(g,\"x\",y,\"=\",z)\n",
    "    y+=1"
   ]
  },
  {
   "cell_type": "code",
   "execution_count": 34,
   "id": "e1cc035f",
   "metadata": {},
   "outputs": [
    {
     "name": "stdout",
     "output_type": "stream",
     "text": [
      "0\n",
      "10\n",
      "20\n",
      "30\n",
      "40\n"
     ]
    }
   ],
   "source": [
    "#0부터 50전 까지 10씩 증가\n",
    "\n",
    "a=0\n",
    "while a<50:\n",
    "    print(a)\n",
    "    a+=10"
   ]
  },
  {
   "cell_type": "code",
   "execution_count": 37,
   "id": "2ae454cd",
   "metadata": {},
   "outputs": [
    {
     "name": "stdout",
     "output_type": "stream",
     "text": [
      "10\n",
      "8\n",
      "6\n",
      "4\n",
      "2\n"
     ]
    }
   ],
   "source": [
    "#10부터 1까지 -2씩 감소\n",
    "\n",
    "a=10\n",
    "while a>0:\n",
    "    print(a)\n",
    "    a-=2"
   ]
  },
  {
   "cell_type": "code",
   "execution_count": 31,
   "id": "7591f94f",
   "metadata": {},
   "outputs": [
    {
     "name": "stdout",
     "output_type": "stream",
     "text": [
      "x= 1 , sum= 1\n",
      "x= 2 , sum= 3\n",
      "x= 3 , sum= 6\n",
      "x= 4 , sum= 10\n",
      "x= 5 , sum= 15\n",
      "x= 6 , sum= 21\n",
      "x= 7 , sum= 28\n",
      "x= 8 , sum= 36\n",
      "x= 9 , sum= 45\n",
      "x= 10 , sum= 55\n"
     ]
    }
   ],
   "source": [
    "#누적합\n",
    "x=1\n",
    "sum=0\n",
    "\n",
    "while x<=10 :\n",
    "    sum+=x\n",
    "    print(\"x=\",x,\",\",\"sum=\",sum)\n",
    "    x+=1\n",
    "\n",
    "\n"
   ]
  },
  {
   "cell_type": "code",
   "execution_count": 19,
   "id": "5d500307",
   "metadata": {},
   "outputs": [
    {
     "name": "stdout",
     "output_type": "stream",
     "text": [
      "걸어서\n",
      "집에가자\n"
     ]
    }
   ],
   "source": [
    "#돈이 있으면 \"택시타고\", 돈이 없으면 '집에 가자\n",
    "\n",
    "\n",
    "money = 0\n",
    "\n",
    "if money :\n",
    "    print(\"택시 타고 \")\n",
    "else :\n",
    "    print(\"걸어서\")\n",
    "print(\"집에가자\")"
   ]
  },
  {
   "cell_type": "code",
   "execution_count": 1,
   "id": "7439c414",
   "metadata": {},
   "outputs": [
    {
     "name": "stdout",
     "output_type": "stream",
     "text": [
      "22\n"
     ]
    }
   ],
   "source": [
    "def plus(x,y):\n",
    "    z=x+y\n",
    "    return z\n",
    "  \n",
    "\n",
    "a=plus(5,7)\n",
    "\n",
    "b=a+10\n",
    "print(b)"
   ]
  },
  {
   "cell_type": "code",
   "execution_count": 3,
   "id": "e7c34826",
   "metadata": {},
   "outputs": [
    {
     "name": "stdout",
     "output_type": "stream",
     "text": [
      "평균 이상입니다\n"
     ]
    }
   ],
   "source": [
    "#시험 점수가 70점 이상이면 출력\n",
    "\n",
    "test_score=int((input(\"시험 점수를 입력하세요\")))\n",
    "\n",
    "if test_score >= 70:\n",
    "    print(\"평균 이상입니다\")\n",
    "else :\n",
    "    print(\"평균 이하입니다\")"
   ]
  },
  {
   "cell_type": "code",
   "execution_count": 4,
   "id": "834bc44b",
   "metadata": {},
   "outputs": [
    {
     "name": "stdout",
     "output_type": "stream",
     "text": [
      "25살 미만이군요!\n"
     ]
    }
   ],
   "source": [
    "#만약 입력된 나이가 25 살 이상이면 반오십!\n",
    "\n",
    "age=int((input(\"현재 나이를 입력하세요\")))\n",
    "\n",
    "if age == 25 :\n",
    "    print(\"반오십입니다!\")\n",
    "elif age < 25 :\n",
    "    print(\"25살 미만이군요!\")\n",
    "elif age < 20:\n",
    "    print(\"미성년자시군요!\")\n",
    "elif age >25 :\n",
    "    print(\"반오십을 넘기셨군요!\")"
   ]
  },
  {
   "cell_type": "code",
   "execution_count": 27,
   "id": "079a4d9b",
   "metadata": {},
   "outputs": [
    {
     "name": "stdout",
     "output_type": "stream",
     "text": [
      "다시 입력해주세요\n"
     ]
    }
   ],
   "source": [
    "#시험 통과 여부에 따른\n",
    "\n",
    "test=input(\"테스트에 합격했나요? (F/P)\")\n",
    "\n",
    "\n",
    "\n",
    "if test == \"P\" :\n",
    "    print(\"시험에 합격했습니다\")\n",
    "elif test == \"F\":\n",
    "    print(\"시험에 불합격했습니다\")\n",
    "else :\n",
    "    print(\"다시 입력해주세요\")\n",
    "\n",
    "\n",
    "\n",
    "if not test :\n",
    "    print"
   ]
  },
  {
   "cell_type": "code",
   "execution_count": 38,
   "id": "719b3cd2",
   "metadata": {},
   "outputs": [],
   "source": [
    "answer = input(\"테스트에 합격했나요?\")\n",
    "\n"
   ]
  },
  {
   "cell_type": "code",
   "execution_count": 44,
   "id": "b5a266b5",
   "metadata": {},
   "outputs": [
    {
     "name": "stdout",
     "output_type": "stream",
     "text": [
      "x= 0\n",
      "x= 1\n",
      "x= 2\n",
      "x= 3\n",
      "x= 4\n",
      "x= 5\n",
      "x= 6\n",
      "x= 7\n",
      "x= 8\n",
      "x= 9\n",
      "x= 10\n",
      "x의 최종값 =  10\n"
     ]
    }
   ],
   "source": [
    "for i in range(0,11):\n",
    "    print(\"x=\",i)\n",
    "print(\"x의 최종값 = \",i)\n",
    "\n"
   ]
  },
  {
   "cell_type": "code",
   "execution_count": 46,
   "id": "36040ab4",
   "metadata": {},
   "outputs": [
    {
     "name": "stdout",
     "output_type": "stream",
     "text": [
      "4 x 1 = 4\n",
      "4 x 2 = 8\n",
      "4 x 3 = 12\n",
      "4 x 4 = 16\n",
      "4 x 5 = 20\n",
      "4 x 6 = 24\n",
      "4 x 7 = 28\n",
      "4 x 8 = 32\n",
      "4 x 9 = 36\n",
      "4 x 10 = 40\n"
     ]
    }
   ],
   "source": [
    "x=int(input(\"구구단을 구해봅시다! \"))\n",
    "\n",
    "for g in range (1,11):\n",
    "    z=x*g\n",
    "    print(x,\"x\",g,'=',z)"
   ]
  },
  {
   "cell_type": "code",
   "execution_count": 48,
   "id": "62f03ee1",
   "metadata": {},
   "outputs": [
    {
     "name": "stdout",
     "output_type": "stream",
     "text": [
      "x= 1 , sum= 1\n",
      "x= 2 , sum= 3\n",
      "x= 3 , sum= 6\n",
      "x= 4 , sum= 10\n",
      "x= 5 , sum= 15\n",
      "x= 6 , sum= 21\n",
      "x= 7 , sum= 28\n",
      "x= 8 , sum= 36\n",
      "x= 9 , sum= 45\n"
     ]
    }
   ],
   "source": [
    "sum=0\n",
    "for i in range (1,10):\n",
    "    sum+=i\n",
    "    print(\"x=\",i,\",\",\"sum=\",sum)"
   ]
  },
  {
   "cell_type": "code",
   "execution_count": 50,
   "id": "2c03463f",
   "metadata": {},
   "outputs": [
    {
     "name": "stdout",
     "output_type": "stream",
     "text": [
      "0\n",
      "10\n",
      "20\n",
      "30\n",
      "40\n"
     ]
    }
   ],
   "source": [
    "for i in range(0,50,10):\n",
    "    print(i)"
   ]
  },
  {
   "cell_type": "code",
   "execution_count": 51,
   "id": "bafb73b3",
   "metadata": {},
   "outputs": [
    {
     "ename": "_IncompleteInputError",
     "evalue": "incomplete input (3200173036.py, line 3)",
     "output_type": "error",
     "traceback": [
      "  \u001b[36mCell\u001b[39m\u001b[36m \u001b[39m\u001b[32mIn[51]\u001b[39m\u001b[32m, line 3\u001b[39m\n\u001b[31m    \u001b[39m\n    ^\n\u001b[31m_IncompleteInputError\u001b[39m\u001b[31m:\u001b[39m incomplete input\n"
     ]
    }
   ],
   "source": [
    "x=1\n",
    "while x<=10:\n",
    "    "
   ]
  },
  {
   "cell_type": "code",
   "execution_count": 1,
   "id": "850a617e",
   "metadata": {},
   "outputs": [
    {
     "name": "stdout",
     "output_type": "stream",
     "text": [
      "chicken= 1081\n",
      "coupon= 1081\n",
      "service 108\n",
      "coupon_from_service 1189\n",
      "total_chicken 118.9\n"
     ]
    }
   ],
   "source": [
    "chicken =1081\n",
    "\n",
    "if chicken%10 == 0:\n",
    "    coupon = chicken/10\n",
    "    service\n",
    "\n",
    "\n",
    "coupon = chicken\n",
    "service = int(coupon/10)\n",
    "\n",
    "coupon_from_service = coupon+service\n",
    "total_chicken = coupon_from_service/10\n",
    "\n",
    "\n",
    "print(\"chicken=\",chicken)\n",
    "print(\"coupon=\",coupon)\n",
    "\n",
    "\n",
    "print(\"service\", service)\n",
    "print(\"coupon_from_service\",coupon_from_service)\n",
    "print(\"total_chicken\", total_chicken)"
   ]
  },
  {
   "cell_type": "code",
   "execution_count": null,
   "id": "9274841a",
   "metadata": {},
   "outputs": [],
   "source": [
    "\n",
    "\n",
    "\n",
    "def solution(chicken):\n",
    "    #쿠폰의 수\n",
    "    coupon = chicken//10\n",
    "    service=coupon//10\n",
    "    chicken=chicken+service\n",
    "    return chicken\n",
    "\n",
    "\n",
    "print(solution(101))"
   ]
  }
 ],
 "metadata": {
  "kernelspec": {
   "display_name": "Python 3",
   "language": "python",
   "name": "python3"
  },
  "language_info": {
   "codemirror_mode": {
    "name": "ipython",
    "version": 3
   },
   "file_extension": ".py",
   "mimetype": "text/x-python",
   "name": "python",
   "nbconvert_exporter": "python",
   "pygments_lexer": "ipython3",
   "version": "3.13.9"
  }
 },
 "nbformat": 4,
 "nbformat_minor": 5
}
